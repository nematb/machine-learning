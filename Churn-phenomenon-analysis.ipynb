{
 "cells": [
  {
   "cell_type": "code",
   "execution_count": 2,
   "metadata": {},
   "outputs": [],
   "source": [
    "import numpy as np\n",
    "import pandas as pd\n",
    "import matplotlib.pyplot as plt\n",
    "from sklearn.preprocessing import MinMaxScaler\n",
    "from sklearn.linear_model import LogisticRegression\n",
    "from sklearn.model_selection import train_test_split\n",
    "from sklearn.model_selection import cross_val_score\n",
    "from sklearn.model_selection import GridSearchCV\n",
    "from sklearn.model_selection import ShuffleSplit\n",
    "from sklearn.metrics import roc_auc_score\n",
    "from sklearn.decomposition import PCA\n",
    "from tqdm import tqdm_notebook\n",
    "from sklearn.neighbors import KNeighborsClassifier\n",
    "from sklearn.preprocessing import StandardScaler\n",
    "from sklearn.metrics import roc_curve\n",
    "#from kmodes.kprototypes import KPrototypes\n",
    "#from GowerDist import gower_distances\n",
    "import scikitplot as skplt\n",
    "import mglearn\n",
    "import warnings\n",
    "warnings.filterwarnings(\"ignore\")"
   ]
  },
  {
   "cell_type": "markdown",
   "metadata": {},
   "source": [
    "First, we download the data:"
   ]
  },
  {
   "cell_type": "code",
   "execution_count": 208,
   "metadata": {
    "scrolled": true
   },
   "outputs": [
    {
     "data": {
      "text/html": [
       "<div>\n",
       "<style scoped>\n",
       "    .dataframe tbody tr th:only-of-type {\n",
       "        vertical-align: middle;\n",
       "    }\n",
       "\n",
       "    .dataframe tbody tr th {\n",
       "        vertical-align: top;\n",
       "    }\n",
       "\n",
       "    .dataframe thead th {\n",
       "        text-align: right;\n",
       "    }\n",
       "</style>\n",
       "<table border=\"1\" class=\"dataframe\">\n",
       "  <thead>\n",
       "    <tr style=\"text-align: right;\">\n",
       "      <th></th>\n",
       "      <th>customerID</th>\n",
       "      <th>gender</th>\n",
       "      <th>SeniorCitizen</th>\n",
       "      <th>Partner</th>\n",
       "      <th>Dependents</th>\n",
       "      <th>tenure</th>\n",
       "      <th>PhoneService</th>\n",
       "      <th>MultipleLines</th>\n",
       "      <th>InternetService</th>\n",
       "      <th>OnlineSecurity</th>\n",
       "      <th>...</th>\n",
       "      <th>DeviceProtection</th>\n",
       "      <th>TechSupport</th>\n",
       "      <th>StreamingTV</th>\n",
       "      <th>StreamingMovies</th>\n",
       "      <th>Contract</th>\n",
       "      <th>PaperlessBilling</th>\n",
       "      <th>PaymentMethod</th>\n",
       "      <th>MonthlyCharges</th>\n",
       "      <th>TotalCharges</th>\n",
       "      <th>Churn</th>\n",
       "    </tr>\n",
       "  </thead>\n",
       "  <tbody>\n",
       "    <tr>\n",
       "      <th>0</th>\n",
       "      <td>7590-VHVEG</td>\n",
       "      <td>Female</td>\n",
       "      <td>0</td>\n",
       "      <td>Yes</td>\n",
       "      <td>No</td>\n",
       "      <td>1</td>\n",
       "      <td>No</td>\n",
       "      <td>No phone service</td>\n",
       "      <td>DSL</td>\n",
       "      <td>No</td>\n",
       "      <td>...</td>\n",
       "      <td>No</td>\n",
       "      <td>No</td>\n",
       "      <td>No</td>\n",
       "      <td>No</td>\n",
       "      <td>Month-to-month</td>\n",
       "      <td>Yes</td>\n",
       "      <td>Electronic check</td>\n",
       "      <td>29.85</td>\n",
       "      <td>29.85</td>\n",
       "      <td>No</td>\n",
       "    </tr>\n",
       "    <tr>\n",
       "      <th>1</th>\n",
       "      <td>5575-GNVDE</td>\n",
       "      <td>Male</td>\n",
       "      <td>0</td>\n",
       "      <td>No</td>\n",
       "      <td>No</td>\n",
       "      <td>34</td>\n",
       "      <td>Yes</td>\n",
       "      <td>No</td>\n",
       "      <td>DSL</td>\n",
       "      <td>Yes</td>\n",
       "      <td>...</td>\n",
       "      <td>Yes</td>\n",
       "      <td>No</td>\n",
       "      <td>No</td>\n",
       "      <td>No</td>\n",
       "      <td>One year</td>\n",
       "      <td>No</td>\n",
       "      <td>Mailed check</td>\n",
       "      <td>56.95</td>\n",
       "      <td>1889.50</td>\n",
       "      <td>No</td>\n",
       "    </tr>\n",
       "    <tr>\n",
       "      <th>2</th>\n",
       "      <td>3668-QPYBK</td>\n",
       "      <td>Male</td>\n",
       "      <td>0</td>\n",
       "      <td>No</td>\n",
       "      <td>No</td>\n",
       "      <td>2</td>\n",
       "      <td>Yes</td>\n",
       "      <td>No</td>\n",
       "      <td>DSL</td>\n",
       "      <td>Yes</td>\n",
       "      <td>...</td>\n",
       "      <td>No</td>\n",
       "      <td>No</td>\n",
       "      <td>No</td>\n",
       "      <td>No</td>\n",
       "      <td>Month-to-month</td>\n",
       "      <td>Yes</td>\n",
       "      <td>Mailed check</td>\n",
       "      <td>53.85</td>\n",
       "      <td>108.15</td>\n",
       "      <td>Yes</td>\n",
       "    </tr>\n",
       "    <tr>\n",
       "      <th>3</th>\n",
       "      <td>7795-CFOCW</td>\n",
       "      <td>Male</td>\n",
       "      <td>0</td>\n",
       "      <td>No</td>\n",
       "      <td>No</td>\n",
       "      <td>45</td>\n",
       "      <td>No</td>\n",
       "      <td>No phone service</td>\n",
       "      <td>DSL</td>\n",
       "      <td>Yes</td>\n",
       "      <td>...</td>\n",
       "      <td>Yes</td>\n",
       "      <td>Yes</td>\n",
       "      <td>No</td>\n",
       "      <td>No</td>\n",
       "      <td>One year</td>\n",
       "      <td>No</td>\n",
       "      <td>Bank transfer (automatic)</td>\n",
       "      <td>42.30</td>\n",
       "      <td>1840.75</td>\n",
       "      <td>No</td>\n",
       "    </tr>\n",
       "    <tr>\n",
       "      <th>4</th>\n",
       "      <td>9237-HQITU</td>\n",
       "      <td>Female</td>\n",
       "      <td>0</td>\n",
       "      <td>No</td>\n",
       "      <td>No</td>\n",
       "      <td>2</td>\n",
       "      <td>Yes</td>\n",
       "      <td>No</td>\n",
       "      <td>Fiber optic</td>\n",
       "      <td>No</td>\n",
       "      <td>...</td>\n",
       "      <td>No</td>\n",
       "      <td>No</td>\n",
       "      <td>No</td>\n",
       "      <td>No</td>\n",
       "      <td>Month-to-month</td>\n",
       "      <td>Yes</td>\n",
       "      <td>Electronic check</td>\n",
       "      <td>70.70</td>\n",
       "      <td>151.65</td>\n",
       "      <td>Yes</td>\n",
       "    </tr>\n",
       "  </tbody>\n",
       "</table>\n",
       "<p>5 rows × 21 columns</p>\n",
       "</div>"
      ],
      "text/plain": [
       "   customerID  gender  SeniorCitizen Partner Dependents  tenure PhoneService  \\\n",
       "0  7590-VHVEG  Female              0     Yes         No       1           No   \n",
       "1  5575-GNVDE    Male              0      No         No      34          Yes   \n",
       "2  3668-QPYBK    Male              0      No         No       2          Yes   \n",
       "3  7795-CFOCW    Male              0      No         No      45           No   \n",
       "4  9237-HQITU  Female              0      No         No       2          Yes   \n",
       "\n",
       "      MultipleLines InternetService OnlineSecurity  ...   DeviceProtection  \\\n",
       "0  No phone service             DSL             No  ...                 No   \n",
       "1                No             DSL            Yes  ...                Yes   \n",
       "2                No             DSL            Yes  ...                 No   \n",
       "3  No phone service             DSL            Yes  ...                Yes   \n",
       "4                No     Fiber optic             No  ...                 No   \n",
       "\n",
       "  TechSupport StreamingTV StreamingMovies        Contract PaperlessBilling  \\\n",
       "0          No          No              No  Month-to-month              Yes   \n",
       "1          No          No              No        One year               No   \n",
       "2          No          No              No  Month-to-month              Yes   \n",
       "3         Yes          No              No        One year               No   \n",
       "4          No          No              No  Month-to-month              Yes   \n",
       "\n",
       "               PaymentMethod MonthlyCharges  TotalCharges  Churn  \n",
       "0           Electronic check          29.85         29.85     No  \n",
       "1               Mailed check          56.95       1889.50     No  \n",
       "2               Mailed check          53.85        108.15    Yes  \n",
       "3  Bank transfer (automatic)          42.30       1840.75     No  \n",
       "4           Electronic check          70.70        151.65    Yes  \n",
       "\n",
       "[5 rows x 21 columns]"
      ]
     },
     "execution_count": 208,
     "metadata": {},
     "output_type": "execute_result"
    }
   ],
   "source": [
    "df = pd.read_csv('churn.csv')\n",
    "df.head()"
   ]
  },
  {
   "cell_type": "code",
   "execution_count": 209,
   "metadata": {},
   "outputs": [
    {
     "data": {
      "text/plain": [
       "(7043, 21)"
      ]
     },
     "execution_count": 209,
     "metadata": {},
     "output_type": "execute_result"
    }
   ],
   "source": [
    "df.shape"
   ]
  },
  {
   "cell_type": "code",
   "execution_count": 210,
   "metadata": {},
   "outputs": [
    {
     "data": {
      "text/plain": [
       "Index(['customerID', 'gender', 'SeniorCitizen', 'Partner', 'Dependents',\n",
       "       'tenure', 'PhoneService', 'MultipleLines', 'InternetService',\n",
       "       'OnlineSecurity', 'OnlineBackup', 'DeviceProtection', 'TechSupport',\n",
       "       'StreamingTV', 'StreamingMovies', 'Contract', 'PaperlessBilling',\n",
       "       'PaymentMethod', 'MonthlyCharges', 'TotalCharges', 'Churn'],\n",
       "      dtype='object')"
      ]
     },
     "execution_count": 210,
     "metadata": {},
     "output_type": "execute_result"
    }
   ],
   "source": [
    "df.columns"
   ]
  },
  {
   "cell_type": "markdown",
   "metadata": {},
   "source": [
    "Now let's take a look what are the possible values for each feature:"
   ]
  },
  {
   "cell_type": "code",
   "execution_count": 211,
   "metadata": {},
   "outputs": [
    {
     "name": "stdout",
     "output_type": "stream",
     "text": [
      "customerID:['7590-VHVEG' '5575-GNVDE' '3668-QPYBK' ... '4801-JZAZL' '8361-LTMKD'\n",
      " '3186-AJIEK']\n",
      "\n",
      "gender:['Female' 'Male']\n",
      "\n",
      "SeniorCitizen:[0 1]\n",
      "\n",
      "Partner:['Yes' 'No']\n",
      "\n",
      "Dependents:['No' 'Yes']\n",
      "\n",
      "tenure:[ 1 34  2 45  8 22 10 28 62 13 16 58 49 25 69 52 71 21 12 30 47 72 17 27\n",
      "  5 46 11 70 63 43 15 60 18 66  9  3 31 50 64 56  7 42 35 48 29 65 38 68\n",
      " 32 55 37 36 41  6  4 33 67 23 57 61 14 20 53 40 59 24 44 19 54 51 26  0\n",
      " 39]\n",
      "\n",
      "PhoneService:['No' 'Yes']\n",
      "\n",
      "MultipleLines:['No phone service' 'No' 'Yes']\n",
      "\n",
      "InternetService:['DSL' 'Fiber optic' 'No']\n",
      "\n",
      "OnlineSecurity:['No' 'Yes' 'No internet service']\n",
      "\n",
      "OnlineBackup:['Yes' 'No' 'No internet service']\n",
      "\n",
      "DeviceProtection:['No' 'Yes' 'No internet service']\n",
      "\n",
      "TechSupport:['No' 'Yes' 'No internet service']\n",
      "\n",
      "StreamingTV:['No' 'Yes' 'No internet service']\n",
      "\n",
      "StreamingMovies:['No' 'Yes' 'No internet service']\n",
      "\n",
      "Contract:['Month-to-month' 'One year' 'Two year']\n",
      "\n",
      "PaperlessBilling:['Yes' 'No']\n",
      "\n",
      "PaymentMethod:['Electronic check' 'Mailed check' 'Bank transfer (automatic)'\n",
      " 'Credit card (automatic)']\n",
      "\n",
      "MonthlyCharges:[29.85 56.95 53.85 ... 63.1  44.2  78.7 ]\n",
      "\n",
      "TotalCharges:[  29.85 1889.5   108.15 ...  346.45  306.6  6844.5 ]\n",
      "\n",
      "Churn:['No' 'Yes']\n",
      "\n"
     ]
    }
   ],
   "source": [
    "out = str()\n",
    "for i in df.columns:\n",
    "    print(\"{}:{}\\n\".format(i, df[i].unique()))"
   ]
  },
  {
   "cell_type": "markdown",
   "metadata": {},
   "source": [
    "# Exploratory data analysis"
   ]
  },
  {
   "cell_type": "markdown",
   "metadata": {},
   "source": [
    "We have 3 quantitative variables (tenure, monthly charges and total charges), 1 ID variable and 17 categorical variables."
   ]
  },
  {
   "cell_type": "markdown",
   "metadata": {},
   "source": [
    "First, let's check if Customer IDs might convey any information:"
   ]
  },
  {
   "cell_type": "code",
   "execution_count": 212,
   "metadata": {},
   "outputs": [],
   "source": [
    "assert len(df) == len(df['customerID'].unique())"
   ]
  },
  {
   "cell_type": "markdown",
   "metadata": {},
   "source": [
    "IDs are unique for each observation and we can set them as index"
   ]
  },
  {
   "cell_type": "code",
   "execution_count": 213,
   "metadata": {},
   "outputs": [],
   "source": [
    "df.set_index(['customerID'], inplace=True)"
   ]
  },
  {
   "cell_type": "markdown",
   "metadata": {},
   "source": [
    "Now we move on to quantitative variables. **df['TotalCharges']** has string values although TotalCharges is clearly a numeric variable. This may be due to the presence of missing values that are not encoded as numbers. Let's get rid of this problem"
   ]
  },
  {
   "cell_type": "code",
   "execution_count": 214,
   "metadata": {},
   "outputs": [
    {
     "data": {
      "text/plain": [
       "(7032, 20)"
      ]
     },
     "execution_count": 214,
     "metadata": {},
     "output_type": "execute_result"
    }
   ],
   "source": [
    "# convert strings with numbers into floats, other values into NaNs\n",
    "df.TotalCharges = pd.to_numeric(df.TotalCharges, errors='coerce') \n",
    "df = df.dropna()\n",
    "df.shape #let's see how many observations we are left with after dropping NaNs"
   ]
  },
  {
   "cell_type": "markdown",
   "metadata": {},
   "source": [
    "Next we explore quantitative variables and check the presence of outliers or missing values encoded as numbers (e.g. -99). Firstly, we analyze given data by plotting histograms:"
   ]
  },
  {
   "cell_type": "code",
   "execution_count": 215,
   "metadata": {
    "scrolled": true
   },
   "outputs": [
    {
     "data": {
      "text/plain": [
       "<matplotlib.axes._subplots.AxesSubplot at 0x1871268d668>"
      ]
     },
     "execution_count": 215,
     "metadata": {},
     "output_type": "execute_result"
    },
    {
     "data": {
      "image/png": "[encoded data removed]",
      "text/plain": [
       "<Figure size 432x288 with 1 Axes>"
      ]
     },
     "metadata": {
      "needs_background": "light"
     },
     "output_type": "display_data"
    }
   ],
   "source": [
    "df.tenure.hist(bins = 72)"
   ]
  },
  {
   "cell_type": "code",
   "execution_count": 216,
   "metadata": {},
   "outputs": [
    {
     "data": {
      "text/plain": [
       "count    7032.000000\n",
       "mean       32.421786\n",
       "std        24.545260\n",
       "min         1.000000\n",
       "25%         9.000000\n",
       "50%        29.000000\n",
       "75%        55.000000\n",
       "max        72.000000\n",
       "Name: tenure, dtype: float64"
      ]
     },
     "execution_count": 216,
     "metadata": {},
     "output_type": "execute_result"
    }
   ],
   "source": [
    "df.tenure.describe()"
   ]
  },
  {
   "cell_type": "code",
   "execution_count": 217,
   "metadata": {},
   "outputs": [
    {
     "data": {
      "text/plain": [
       "613"
      ]
     },
     "execution_count": 217,
     "metadata": {},
     "output_type": "execute_result"
    }
   ],
   "source": [
    "len(df[df.tenure == 1])"
   ]
  },
  {
   "cell_type": "code",
   "execution_count": 218,
   "metadata": {},
   "outputs": [
    {
     "data": {
      "text/plain": [
       "362"
      ]
     },
     "execution_count": 218,
     "metadata": {},
     "output_type": "execute_result"
    }
   ],
   "source": [
    "len(df[df.tenure == 72])"
   ]
  },
  {
   "cell_type": "markdown",
   "metadata": {},
   "source": [
    "As you can see, tenure varies between 1 and 72, having modes at the borders of the interval. The mode at 1 month is predictable since a lot of customers will churn soon after their first involvement. However, the mode at 72 months (3 years) might take place only because of the data collection process. Since we know that the company exists for more than 3 years, some of the observations with tenure equal to 72 might actually refer to the clients who have been with the company for more than 3 years. If these observations consist mostly of remaining customers, it would be better to drop these observations so as not to overestimate the impact of tenure."
   ]
  },
  {
   "cell_type": "code",
   "execution_count": 219,
   "metadata": {},
   "outputs": [
    {
     "data": {
      "text/plain": [
       "<matplotlib.axes._subplots.AxesSubplot at 0x1871276f748>"
      ]
     },
     "execution_count": 219,
     "metadata": {},
     "output_type": "execute_result"
    },
    {
     "data": {
      "image/png": "[encoded data removed]",
      "text/plain": [
       "<Figure size 432x288 with 1 Axes>"
      ]
     },
     "metadata": {
      "needs_background": "light"
     },
     "output_type": "display_data"
    }
   ],
   "source": [
    "df.MonthlyCharges.hist(bins = 100)"
   ]
  },
  {
   "cell_type": "code",
   "execution_count": 220,
   "metadata": {},
   "outputs": [
    {
     "data": {
      "text/plain": [
       "count    7032.000000\n",
       "mean       64.798208\n",
       "std        30.085974\n",
       "min        18.250000\n",
       "25%        35.587500\n",
       "50%        70.350000\n",
       "75%        89.862500\n",
       "max       118.750000\n",
       "Name: MonthlyCharges, dtype: float64"
      ]
     },
     "execution_count": 220,
     "metadata": {},
     "output_type": "execute_result"
    }
   ],
   "source": [
    "df.MonthlyCharges.describe()"
   ]
  },
  {
   "cell_type": "markdown",
   "metadata": {},
   "source": [
    "This time we clearly have no outliers and also a mode in the area of 20"
   ]
  },
  {
   "cell_type": "code",
   "execution_count": 221,
   "metadata": {},
   "outputs": [
    {
     "data": {
      "text/plain": [
       "<matplotlib.axes._subplots.AxesSubplot at 0x187125d05f8>"
      ]
     },
     "execution_count": 221,
     "metadata": {},
     "output_type": "execute_result"
    },
    {
     "data": {
      "image/png": "[encoded data removed]",
      "text/plain": [
       "<Figure size 432x288 with 1 Axes>"
      ]
     },
     "metadata": {
      "needs_background": "light"
     },
     "output_type": "display_data"
    }
   ],
   "source": [
    "df.TotalCharges.hist(bins = 100)"
   ]
  },
  {
   "cell_type": "code",
   "execution_count": 222,
   "metadata": {},
   "outputs": [
    {
     "data": {
      "text/plain": [
       "count    7032.000000\n",
       "mean     2283.300441\n",
       "std      2266.771362\n",
       "min        18.800000\n",
       "25%       401.450000\n",
       "50%      1397.475000\n",
       "75%      3794.737500\n",
       "max      8684.800000\n",
       "Name: TotalCharges, dtype: float64"
      ]
     },
     "execution_count": 222,
     "metadata": {},
     "output_type": "execute_result"
    }
   ],
   "source": [
    "df.TotalCharges.describe()"
   ]
  },
  {
   "cell_type": "markdown",
   "metadata": {},
   "source": [
    "What we see here is that data is significantly skewed. Peak on the left looks very thin so that it looks like the mode includes only one value which occurs more than 800 times. However, this is not the case. Actual modal value occurs only a few times, which indicates that our distribution here has exponential form"
   ]
  },
  {
   "cell_type": "code",
   "execution_count": 223,
   "metadata": {},
   "outputs": [
    {
     "data": {
      "text/plain": [
       "11"
      ]
     },
     "execution_count": 223,
     "metadata": {},
     "output_type": "execute_result"
    }
   ],
   "source": [
    "len(df[df.TotalCharges == df.TotalCharges.mode()[0]])"
   ]
  },
  {
   "cell_type": "markdown",
   "metadata": {},
   "source": [
    "Such a distribution of the variable suggests that we should consider applying the logarithmic transformation here.This way we will be able to capture the effect of relative rather than absolute increase in the variable which is more reasonable when the density of values decreases rapidly with respect to their size."
   ]
  },
  {
   "cell_type": "code",
   "execution_count": 224,
   "metadata": {},
   "outputs": [],
   "source": [
    "df['log_TotalCharges'] = np.log(df.TotalCharges)"
   ]
  },
  {
   "cell_type": "code",
   "execution_count": 225,
   "metadata": {},
   "outputs": [
    {
     "data": {
      "text/plain": [
       "<matplotlib.axes._subplots.AxesSubplot at 0x18711e8ab38>"
      ]
     },
     "execution_count": 225,
     "metadata": {},
     "output_type": "execute_result"
    },
    {
     "data": {
      "image/png": "[encoded data removed]",
      "text/plain": [
       "<Figure size 432x288 with 1 Axes>"
      ]
     },
     "metadata": {
      "needs_background": "light"
     },
     "output_type": "display_data"
    }
   ],
   "source": [
    "df.log_TotalCharges.hist(bins = 100)"
   ]
  },
  {
   "cell_type": "markdown",
   "metadata": {},
   "source": [
    "Right now we have only one dummy variable: SeniorCitizen. Let's transform other categorical variables into dummies."
   ]
  },
  {
   "cell_type": "code",
   "execution_count": 226,
   "metadata": {
    "scrolled": true
   },
   "outputs": [
    {
     "data": {
      "text/html": [
       "<div>\n",
       "<style scoped>\n",
       "    .dataframe tbody tr th:only-of-type {\n",
       "        vertical-align: middle;\n",
       "    }\n",
       "\n",
       "    .dataframe tbody tr th {\n",
       "        vertical-align: top;\n",
       "    }\n",
       "\n",
       "    .dataframe thead th {\n",
       "        text-align: right;\n",
       "    }\n",
       "</style>\n",
       "<table border=\"1\" class=\"dataframe\">\n",
       "  <thead>\n",
       "    <tr style=\"text-align: right;\">\n",
       "      <th></th>\n",
       "      <th>SeniorCitizen</th>\n",
       "      <th>tenure</th>\n",
       "      <th>MonthlyCharges</th>\n",
       "      <th>TotalCharges</th>\n",
       "      <th>log_TotalCharges</th>\n",
       "      <th>gender_Male</th>\n",
       "      <th>Partner</th>\n",
       "      <th>Dependents</th>\n",
       "      <th>PhoneService</th>\n",
       "      <th>MultipleLines_No phone service</th>\n",
       "      <th>...</th>\n",
       "      <th>StreamingTV</th>\n",
       "      <th>StreamingMovies_No internet service</th>\n",
       "      <th>StreamingMovies</th>\n",
       "      <th>Contract_One year</th>\n",
       "      <th>Contract_Two year</th>\n",
       "      <th>PaperlessBilling</th>\n",
       "      <th>PaymentMethod_Credit card (automatic)</th>\n",
       "      <th>PaymentMethod_Electronic check</th>\n",
       "      <th>PaymentMethod_Mailed check</th>\n",
       "      <th>Churn</th>\n",
       "    </tr>\n",
       "    <tr>\n",
       "      <th>customerID</th>\n",
       "      <th></th>\n",
       "      <th></th>\n",
       "      <th></th>\n",
       "      <th></th>\n",
       "      <th></th>\n",
       "      <th></th>\n",
       "      <th></th>\n",
       "      <th></th>\n",
       "      <th></th>\n",
       "      <th></th>\n",
       "      <th></th>\n",
       "      <th></th>\n",
       "      <th></th>\n",
       "      <th></th>\n",
       "      <th></th>\n",
       "      <th></th>\n",
       "      <th></th>\n",
       "      <th></th>\n",
       "      <th></th>\n",
       "      <th></th>\n",
       "      <th></th>\n",
       "    </tr>\n",
       "  </thead>\n",
       "  <tbody>\n",
       "    <tr>\n",
       "      <th>7590-VHVEG</th>\n",
       "      <td>0</td>\n",
       "      <td>1</td>\n",
       "      <td>29.85</td>\n",
       "      <td>29.85</td>\n",
       "      <td>3.396185</td>\n",
       "      <td>0</td>\n",
       "      <td>1</td>\n",
       "      <td>0</td>\n",
       "      <td>0</td>\n",
       "      <td>1</td>\n",
       "      <td>...</td>\n",
       "      <td>0</td>\n",
       "      <td>0</td>\n",
       "      <td>0</td>\n",
       "      <td>0</td>\n",
       "      <td>0</td>\n",
       "      <td>1</td>\n",
       "      <td>0</td>\n",
       "      <td>1</td>\n",
       "      <td>0</td>\n",
       "      <td>0</td>\n",
       "    </tr>\n",
       "    <tr>\n",
       "      <th>5575-GNVDE</th>\n",
       "      <td>0</td>\n",
       "      <td>34</td>\n",
       "      <td>56.95</td>\n",
       "      <td>1889.50</td>\n",
       "      <td>7.544068</td>\n",
       "      <td>1</td>\n",
       "      <td>0</td>\n",
       "      <td>0</td>\n",
       "      <td>1</td>\n",
       "      <td>0</td>\n",
       "      <td>...</td>\n",
       "      <td>0</td>\n",
       "      <td>0</td>\n",
       "      <td>0</td>\n",
       "      <td>1</td>\n",
       "      <td>0</td>\n",
       "      <td>0</td>\n",
       "      <td>0</td>\n",
       "      <td>0</td>\n",
       "      <td>1</td>\n",
       "      <td>0</td>\n",
       "    </tr>\n",
       "    <tr>\n",
       "      <th>3668-QPYBK</th>\n",
       "      <td>0</td>\n",
       "      <td>2</td>\n",
       "      <td>53.85</td>\n",
       "      <td>108.15</td>\n",
       "      <td>4.683519</td>\n",
       "      <td>1</td>\n",
       "      <td>0</td>\n",
       "      <td>0</td>\n",
       "      <td>1</td>\n",
       "      <td>0</td>\n",
       "      <td>...</td>\n",
       "      <td>0</td>\n",
       "      <td>0</td>\n",
       "      <td>0</td>\n",
       "      <td>0</td>\n",
       "      <td>0</td>\n",
       "      <td>1</td>\n",
       "      <td>0</td>\n",
       "      <td>0</td>\n",
       "      <td>1</td>\n",
       "      <td>1</td>\n",
       "    </tr>\n",
       "    <tr>\n",
       "      <th>7795-CFOCW</th>\n",
       "      <td>0</td>\n",
       "      <td>45</td>\n",
       "      <td>42.30</td>\n",
       "      <td>1840.75</td>\n",
       "      <td>7.517928</td>\n",
       "      <td>1</td>\n",
       "      <td>0</td>\n",
       "      <td>0</td>\n",
       "      <td>0</td>\n",
       "      <td>1</td>\n",
       "      <td>...</td>\n",
       "      <td>0</td>\n",
       "      <td>0</td>\n",
       "      <td>0</td>\n",
       "      <td>1</td>\n",
       "      <td>0</td>\n",
       "      <td>0</td>\n",
       "      <td>0</td>\n",
       "      <td>0</td>\n",
       "      <td>0</td>\n",
       "      <td>0</td>\n",
       "    </tr>\n",
       "    <tr>\n",
       "      <th>9237-HQITU</th>\n",
       "      <td>0</td>\n",
       "      <td>2</td>\n",
       "      <td>70.70</td>\n",
       "      <td>151.65</td>\n",
       "      <td>5.021575</td>\n",
       "      <td>0</td>\n",
       "      <td>0</td>\n",
       "      <td>0</td>\n",
       "      <td>1</td>\n",
       "      <td>0</td>\n",
       "      <td>...</td>\n",
       "      <td>0</td>\n",
       "      <td>0</td>\n",
       "      <td>0</td>\n",
       "      <td>0</td>\n",
       "      <td>0</td>\n",
       "      <td>1</td>\n",
       "      <td>0</td>\n",
       "      <td>1</td>\n",
       "      <td>0</td>\n",
       "      <td>1</td>\n",
       "    </tr>\n",
       "  </tbody>\n",
       "</table>\n",
       "<p>5 rows × 32 columns</p>\n",
       "</div>"
      ],
      "text/plain": [
       "            SeniorCitizen  tenure  MonthlyCharges  TotalCharges  \\\n",
       "customerID                                                        \n",
       "7590-VHVEG              0       1           29.85         29.85   \n",
       "5575-GNVDE              0      34           56.95       1889.50   \n",
       "3668-QPYBK              0       2           53.85        108.15   \n",
       "7795-CFOCW              0      45           42.30       1840.75   \n",
       "9237-HQITU              0       2           70.70        151.65   \n",
       "\n",
       "            log_TotalCharges  gender_Male  Partner  Dependents  PhoneService  \\\n",
       "customerID                                                                     \n",
       "7590-VHVEG          3.396185            0        1           0             0   \n",
       "5575-GNVDE          7.544068            1        0           0             1   \n",
       "3668-QPYBK          4.683519            1        0           0             1   \n",
       "7795-CFOCW          7.517928            1        0           0             0   \n",
       "9237-HQITU          5.021575            0        0           0             1   \n",
       "\n",
       "            MultipleLines_No phone service  ...    StreamingTV  \\\n",
       "customerID                                  ...                  \n",
       "7590-VHVEG                               1  ...              0   \n",
       "5575-GNVDE                               0  ...              0   \n",
       "3668-QPYBK                               0  ...              0   \n",
       "7795-CFOCW                               1  ...              0   \n",
       "9237-HQITU                               0  ...              0   \n",
       "\n",
       "            StreamingMovies_No internet service  StreamingMovies  \\\n",
       "customerID                                                         \n",
       "7590-VHVEG                                    0                0   \n",
       "5575-GNVDE                                    0                0   \n",
       "3668-QPYBK                                    0                0   \n",
       "7795-CFOCW                                    0                0   \n",
       "9237-HQITU                                    0                0   \n",
       "\n",
       "            Contract_One year  Contract_Two year  PaperlessBilling  \\\n",
       "customerID                                                           \n",
       "7590-VHVEG                  0                  0                 1   \n",
       "5575-GNVDE                  1                  0                 0   \n",
       "3668-QPYBK                  0                  0                 1   \n",
       "7795-CFOCW                  1                  0                 0   \n",
       "9237-HQITU                  0                  0                 1   \n",
       "\n",
       "            PaymentMethod_Credit card (automatic)  \\\n",
       "customerID                                          \n",
       "7590-VHVEG                                      0   \n",
       "5575-GNVDE                                      0   \n",
       "3668-QPYBK                                      0   \n",
       "7795-CFOCW                                      0   \n",
       "9237-HQITU                                      0   \n",
       "\n",
       "            PaymentMethod_Electronic check  PaymentMethod_Mailed check  Churn  \n",
       "customerID                                                                     \n",
       "7590-VHVEG                               1                           0      0  \n",
       "5575-GNVDE                               0                           1      0  \n",
       "3668-QPYBK                               0                           1      1  \n",
       "7795-CFOCW                               0                           0      0  \n",
       "9237-HQITU                               1                           0      1  \n",
       "\n",
       "[5 rows x 32 columns]"
      ]
     },
     "execution_count": 226,
     "metadata": {},
     "output_type": "execute_result"
    }
   ],
   "source": [
    "df = pd.get_dummies(df, drop_first = True) #leave one category out so as to avoid the dummy trap\n",
    "df.rename(columns={s: s[:-4] for s in df.columns if 'Yes' in s}, inplace = True)\n",
    "df.head()"
   ]
  },
  {
   "cell_type": "markdown",
   "metadata": {},
   "source": [
    "It might seem like we've avoided the perfect collinearity problem having left one category out for each categorical variable. However, we still have 7 identical features that provide information on the same factor - lack of internet service"
   ]
  },
  {
   "cell_type": "code",
   "execution_count": 227,
   "metadata": {},
   "outputs": [
    {
     "data": {
      "text/html": [
       "<div>\n",
       "<style scoped>\n",
       "    .dataframe tbody tr th:only-of-type {\n",
       "        vertical-align: middle;\n",
       "    }\n",
       "\n",
       "    .dataframe tbody tr th {\n",
       "        vertical-align: top;\n",
       "    }\n",
       "\n",
       "    .dataframe thead th {\n",
       "        text-align: right;\n",
       "    }\n",
       "</style>\n",
       "<table border=\"1\" class=\"dataframe\">\n",
       "  <thead>\n",
       "    <tr style=\"text-align: right;\">\n",
       "      <th></th>\n",
       "      <th>InternetService_No</th>\n",
       "      <th>OnlineSecurity_No internet service</th>\n",
       "      <th>OnlineBackup_No internet service</th>\n",
       "      <th>DeviceProtection_No internet service</th>\n",
       "      <th>TechSupport_No internet service</th>\n",
       "      <th>StreamingTV_No internet service</th>\n",
       "      <th>StreamingMovies_No internet service</th>\n",
       "    </tr>\n",
       "    <tr>\n",
       "      <th>customerID</th>\n",
       "      <th></th>\n",
       "      <th></th>\n",
       "      <th></th>\n",
       "      <th></th>\n",
       "      <th></th>\n",
       "      <th></th>\n",
       "      <th></th>\n",
       "    </tr>\n",
       "  </thead>\n",
       "  <tbody>\n",
       "    <tr>\n",
       "      <th>7590-VHVEG</th>\n",
       "      <td>0</td>\n",
       "      <td>0</td>\n",
       "      <td>0</td>\n",
       "      <td>0</td>\n",
       "      <td>0</td>\n",
       "      <td>0</td>\n",
       "      <td>0</td>\n",
       "    </tr>\n",
       "    <tr>\n",
       "      <th>5575-GNVDE</th>\n",
       "      <td>0</td>\n",
       "      <td>0</td>\n",
       "      <td>0</td>\n",
       "      <td>0</td>\n",
       "      <td>0</td>\n",
       "      <td>0</td>\n",
       "      <td>0</td>\n",
       "    </tr>\n",
       "    <tr>\n",
       "      <th>3668-QPYBK</th>\n",
       "      <td>0</td>\n",
       "      <td>0</td>\n",
       "      <td>0</td>\n",
       "      <td>0</td>\n",
       "      <td>0</td>\n",
       "      <td>0</td>\n",
       "      <td>0</td>\n",
       "    </tr>\n",
       "    <tr>\n",
       "      <th>7795-CFOCW</th>\n",
       "      <td>0</td>\n",
       "      <td>0</td>\n",
       "      <td>0</td>\n",
       "      <td>0</td>\n",
       "      <td>0</td>\n",
       "      <td>0</td>\n",
       "      <td>0</td>\n",
       "    </tr>\n",
       "    <tr>\n",
       "      <th>9237-HQITU</th>\n",
       "      <td>0</td>\n",
       "      <td>0</td>\n",
       "      <td>0</td>\n",
       "      <td>0</td>\n",
       "      <td>0</td>\n",
       "      <td>0</td>\n",
       "      <td>0</td>\n",
       "    </tr>\n",
       "  </tbody>\n",
       "</table>\n",
       "</div>"
      ],
      "text/plain": [
       "            InternetService_No  OnlineSecurity_No internet service  \\\n",
       "customerID                                                           \n",
       "7590-VHVEG                   0                                   0   \n",
       "5575-GNVDE                   0                                   0   \n",
       "3668-QPYBK                   0                                   0   \n",
       "7795-CFOCW                   0                                   0   \n",
       "9237-HQITU                   0                                   0   \n",
       "\n",
       "            OnlineBackup_No internet service  \\\n",
       "customerID                                     \n",
       "7590-VHVEG                                 0   \n",
       "5575-GNVDE                                 0   \n",
       "3668-QPYBK                                 0   \n",
       "7795-CFOCW                                 0   \n",
       "9237-HQITU                                 0   \n",
       "\n",
       "            DeviceProtection_No internet service  \\\n",
       "customerID                                         \n",
       "7590-VHVEG                                     0   \n",
       "5575-GNVDE                                     0   \n",
       "3668-QPYBK                                     0   \n",
       "7795-CFOCW                                     0   \n",
       "9237-HQITU                                     0   \n",
       "\n",
       "            TechSupport_No internet service  StreamingTV_No internet service  \\\n",
       "customerID                                                                     \n",
       "7590-VHVEG                                0                                0   \n",
       "5575-GNVDE                                0                                0   \n",
       "3668-QPYBK                                0                                0   \n",
       "7795-CFOCW                                0                                0   \n",
       "9237-HQITU                                0                                0   \n",
       "\n",
       "            StreamingMovies_No internet service  \n",
       "customerID                                       \n",
       "7590-VHVEG                                    0  \n",
       "5575-GNVDE                                    0  \n",
       "3668-QPYBK                                    0  \n",
       "7795-CFOCW                                    0  \n",
       "9237-HQITU                                    0  "
      ]
     },
     "execution_count": 227,
     "metadata": {},
     "output_type": "execute_result"
    }
   ],
   "source": [
    "df[[s for s in df.columns if 'No' in s and 'nternet' in s]].head()"
   ]
  },
  {
   "cell_type": "code",
   "execution_count": 228,
   "metadata": {},
   "outputs": [],
   "source": [
    "df.drop([s for s in df.columns if '_No internet service' in s], axis = 1, inplace = True)"
   ]
  },
  {
   "cell_type": "code",
   "execution_count": 229,
   "metadata": {},
   "outputs": [
    {
     "data": {
      "text/plain": [
       "(7032, 26)"
      ]
     },
     "execution_count": 229,
     "metadata": {},
     "output_type": "execute_result"
    }
   ],
   "source": [
    "df.shape"
   ]
  },
  {
   "cell_type": "markdown",
   "metadata": {},
   "source": [
    "Let's look at how our variables are distributed conditional on the target class:"
   ]
  },
  {
   "cell_type": "code",
   "execution_count": 230,
   "metadata": {
    "scrolled": false
   },
   "outputs": [
    {
     "data": {
      "image/png": "[encoded data removed]",
      "text/plain": [
       "<Figure size 720x2160 with 26 Axes>"
      ]
     },
     "metadata": {
      "needs_background": "light"
     },
     "output_type": "display_data"
    }
   ],
   "source": [
    "fig, axes = plt.subplots(13, 2, figsize=(10, 30))\n",
    "churn_yes = df[df['Churn'] == 1]\n",
    "churn_no = df[df['Churn'] == 0]\n",
    "\n",
    "ax = axes.ravel()\n",
    "for i in range(26):\n",
    "    if i > 0 & i < 4:\n",
    "        _, bins = np.histogram(df.values[:, i], bins=50)\n",
    "    else:\n",
    "        _, bins = np.histogram(df.values[:, i], bins=50)\n",
    "    ax[i].hist(churn_yes.values[:, i], bins=bins, color=mglearn.cm3(0), alpha=.5)\n",
    "    ax[i].hist(churn_no.values[:, i], bins=bins, color=mglearn.cm3(2), alpha=.5)\n",
    "    ax[i].set_title(df.columns[i])\n",
    "    ax[i].set_yticks(())\n",
    "    ax[i].set_xlabel(\"Feature magnitude\")\n",
    "    ax[i].set_ylabel(\"Frequency\")\n",
    "    ax[i].legend([\"churn_yes\", \"churn_no\"], loc=\"center\")\n",
    "    fig.tight_layout()"
   ]
  },
  {
   "cell_type": "markdown",
   "metadata": {},
   "source": [
    "From these graphs we can see that all of our numeric variables are quite informative. As expected, distribution of tenure is skewed to the minimum for customers who churned and to the maximum for customers who did not. Mode in the right border, as was suspected earlier, indeed almost does not contain churning customers and should probably be dropped. Mode for monthly charges nearly completely consists of remaining customers, while those who churned tend to have higher monthly charges. What this means is that customers who stay do not tend to constantly spend a lot on services. From the total charges histograms we can see that churning customers constitute a minority for almost all of the range."
   ]
  },
  {
   "cell_type": "markdown",
   "metadata": {},
   "source": [
    "Not all the categorical values actually appear useful (e. g. gender). Among the factors that are clearly correlated with churning we can find being a senior citizen, using internet service and making month-to-month contracts"
   ]
  },
  {
   "cell_type": "markdown",
   "metadata": {},
   "source": [
    "# Building an optimal model"
   ]
  },
  {
   "cell_type": "markdown",
   "metadata": {},
   "source": [
    "Firstly, let's drop observations with the maximum value of tenure (i.e. observations that might actually have tenure higher than 3 years)"
   ]
  },
  {
   "cell_type": "code",
   "execution_count": 231,
   "metadata": {},
   "outputs": [],
   "source": [
    "df = df[df.tenure != df.tenure.max()]"
   ]
  },
  {
   "cell_type": "markdown",
   "metadata": {},
   "source": [
    "It is important to mention that our variables have different scales. Regularization methods work properly when variables have the same scale and, therefore, if we want to apply Lasso or Ridge regression, we should rescale our quantitative variables."
   ]
  },
  {
   "cell_type": "code",
   "execution_count": 232,
   "metadata": {},
   "outputs": [],
   "source": [
    "for x in ['tenure','MonthlyCharges','TotalCharges','log_TotalCharges']:\n",
    "    df[x] = MinMaxScaler().fit_transform(df[x].values.reshape(-1,1))\n",
    "    df.rename(columns = {x : x+'_scaled'}, inplace = True)"
   ]
  },
  {
   "cell_type": "code",
   "execution_count": 233,
   "metadata": {},
   "outputs": [
    {
     "data": {
      "text/html": [
       "<div>\n",
       "<style scoped>\n",
       "    .dataframe tbody tr th:only-of-type {\n",
       "        vertical-align: middle;\n",
       "    }\n",
       "\n",
       "    .dataframe tbody tr th {\n",
       "        vertical-align: top;\n",
       "    }\n",
       "\n",
       "    .dataframe thead th {\n",
       "        text-align: right;\n",
       "    }\n",
       "</style>\n",
       "<table border=\"1\" class=\"dataframe\">\n",
       "  <thead>\n",
       "    <tr style=\"text-align: right;\">\n",
       "      <th></th>\n",
       "      <th>SeniorCitizen</th>\n",
       "      <th>tenure_scaled</th>\n",
       "      <th>MonthlyCharges_scaled</th>\n",
       "      <th>TotalCharges_scaled</th>\n",
       "      <th>log_TotalCharges_scaled</th>\n",
       "      <th>gender_Male</th>\n",
       "      <th>Partner</th>\n",
       "      <th>Dependents</th>\n",
       "      <th>PhoneService</th>\n",
       "      <th>MultipleLines_No phone service</th>\n",
       "      <th>...</th>\n",
       "      <th>TechSupport</th>\n",
       "      <th>StreamingTV</th>\n",
       "      <th>StreamingMovies</th>\n",
       "      <th>Contract_One year</th>\n",
       "      <th>Contract_Two year</th>\n",
       "      <th>PaperlessBilling</th>\n",
       "      <th>PaymentMethod_Credit card (automatic)</th>\n",
       "      <th>PaymentMethod_Electronic check</th>\n",
       "      <th>PaymentMethod_Mailed check</th>\n",
       "      <th>Churn</th>\n",
       "    </tr>\n",
       "    <tr>\n",
       "      <th>customerID</th>\n",
       "      <th></th>\n",
       "      <th></th>\n",
       "      <th></th>\n",
       "      <th></th>\n",
       "      <th></th>\n",
       "      <th></th>\n",
       "      <th></th>\n",
       "      <th></th>\n",
       "      <th></th>\n",
       "      <th></th>\n",
       "      <th></th>\n",
       "      <th></th>\n",
       "      <th></th>\n",
       "      <th></th>\n",
       "      <th></th>\n",
       "      <th></th>\n",
       "      <th></th>\n",
       "      <th></th>\n",
       "      <th></th>\n",
       "      <th></th>\n",
       "      <th></th>\n",
       "    </tr>\n",
       "  </thead>\n",
       "  <tbody>\n",
       "    <tr>\n",
       "      <th>7590-VHVEG</th>\n",
       "      <td>0</td>\n",
       "      <td>0.000000</td>\n",
       "      <td>0.115538</td>\n",
       "      <td>0.001293</td>\n",
       "      <td>0.075525</td>\n",
       "      <td>0</td>\n",
       "      <td>1</td>\n",
       "      <td>0</td>\n",
       "      <td>0</td>\n",
       "      <td>1</td>\n",
       "      <td>...</td>\n",
       "      <td>0</td>\n",
       "      <td>0</td>\n",
       "      <td>0</td>\n",
       "      <td>0</td>\n",
       "      <td>0</td>\n",
       "      <td>1</td>\n",
       "      <td>0</td>\n",
       "      <td>1</td>\n",
       "      <td>0</td>\n",
       "      <td>0</td>\n",
       "    </tr>\n",
       "    <tr>\n",
       "      <th>5575-GNVDE</th>\n",
       "      <td>0</td>\n",
       "      <td>0.471429</td>\n",
       "      <td>0.385458</td>\n",
       "      <td>0.218899</td>\n",
       "      <td>0.753111</td>\n",
       "      <td>1</td>\n",
       "      <td>0</td>\n",
       "      <td>0</td>\n",
       "      <td>1</td>\n",
       "      <td>0</td>\n",
       "      <td>...</td>\n",
       "      <td>0</td>\n",
       "      <td>0</td>\n",
       "      <td>0</td>\n",
       "      <td>1</td>\n",
       "      <td>0</td>\n",
       "      <td>0</td>\n",
       "      <td>0</td>\n",
       "      <td>0</td>\n",
       "      <td>1</td>\n",
       "      <td>0</td>\n",
       "    </tr>\n",
       "    <tr>\n",
       "      <th>3668-QPYBK</th>\n",
       "      <td>0</td>\n",
       "      <td>0.014286</td>\n",
       "      <td>0.354582</td>\n",
       "      <td>0.010455</td>\n",
       "      <td>0.285820</td>\n",
       "      <td>1</td>\n",
       "      <td>0</td>\n",
       "      <td>0</td>\n",
       "      <td>1</td>\n",
       "      <td>0</td>\n",
       "      <td>...</td>\n",
       "      <td>0</td>\n",
       "      <td>0</td>\n",
       "      <td>0</td>\n",
       "      <td>0</td>\n",
       "      <td>0</td>\n",
       "      <td>1</td>\n",
       "      <td>0</td>\n",
       "      <td>0</td>\n",
       "      <td>1</td>\n",
       "      <td>1</td>\n",
       "    </tr>\n",
       "    <tr>\n",
       "      <th>7795-CFOCW</th>\n",
       "      <td>0</td>\n",
       "      <td>0.628571</td>\n",
       "      <td>0.239542</td>\n",
       "      <td>0.213195</td>\n",
       "      <td>0.748841</td>\n",
       "      <td>1</td>\n",
       "      <td>0</td>\n",
       "      <td>0</td>\n",
       "      <td>0</td>\n",
       "      <td>1</td>\n",
       "      <td>...</td>\n",
       "      <td>1</td>\n",
       "      <td>0</td>\n",
       "      <td>0</td>\n",
       "      <td>1</td>\n",
       "      <td>0</td>\n",
       "      <td>0</td>\n",
       "      <td>0</td>\n",
       "      <td>0</td>\n",
       "      <td>0</td>\n",
       "      <td>0</td>\n",
       "    </tr>\n",
       "    <tr>\n",
       "      <th>9237-HQITU</th>\n",
       "      <td>0</td>\n",
       "      <td>0.014286</td>\n",
       "      <td>0.522410</td>\n",
       "      <td>0.015545</td>\n",
       "      <td>0.341044</td>\n",
       "      <td>0</td>\n",
       "      <td>0</td>\n",
       "      <td>0</td>\n",
       "      <td>1</td>\n",
       "      <td>0</td>\n",
       "      <td>...</td>\n",
       "      <td>0</td>\n",
       "      <td>0</td>\n",
       "      <td>0</td>\n",
       "      <td>0</td>\n",
       "      <td>0</td>\n",
       "      <td>1</td>\n",
       "      <td>0</td>\n",
       "      <td>1</td>\n",
       "      <td>0</td>\n",
       "      <td>1</td>\n",
       "    </tr>\n",
       "  </tbody>\n",
       "</table>\n",
       "<p>5 rows × 26 columns</p>\n",
       "</div>"
      ],
      "text/plain": [
       "            SeniorCitizen  tenure_scaled  MonthlyCharges_scaled  \\\n",
       "customerID                                                        \n",
       "7590-VHVEG              0       0.000000               0.115538   \n",
       "5575-GNVDE              0       0.471429               0.385458   \n",
       "3668-QPYBK              0       0.014286               0.354582   \n",
       "7795-CFOCW              0       0.628571               0.239542   \n",
       "9237-HQITU              0       0.014286               0.522410   \n",
       "\n",
       "            TotalCharges_scaled  log_TotalCharges_scaled  gender_Male  \\\n",
       "customerID                                                              \n",
       "7590-VHVEG             0.001293                 0.075525            0   \n",
       "5575-GNVDE             0.218899                 0.753111            1   \n",
       "3668-QPYBK             0.010455                 0.285820            1   \n",
       "7795-CFOCW             0.213195                 0.748841            1   \n",
       "9237-HQITU             0.015545                 0.341044            0   \n",
       "\n",
       "            Partner  Dependents  PhoneService  MultipleLines_No phone service  \\\n",
       "customerID                                                                      \n",
       "7590-VHVEG        1           0             0                               1   \n",
       "5575-GNVDE        0           0             1                               0   \n",
       "3668-QPYBK        0           0             1                               0   \n",
       "7795-CFOCW        0           0             0                               1   \n",
       "9237-HQITU        0           0             1                               0   \n",
       "\n",
       "            ...    TechSupport  StreamingTV  StreamingMovies  \\\n",
       "customerID  ...                                                \n",
       "7590-VHVEG  ...              0            0                0   \n",
       "5575-GNVDE  ...              0            0                0   \n",
       "3668-QPYBK  ...              0            0                0   \n",
       "7795-CFOCW  ...              1            0                0   \n",
       "9237-HQITU  ...              0            0                0   \n",
       "\n",
       "            Contract_One year  Contract_Two year  PaperlessBilling  \\\n",
       "customerID                                                           \n",
       "7590-VHVEG                  0                  0                 1   \n",
       "5575-GNVDE                  1                  0                 0   \n",
       "3668-QPYBK                  0                  0                 1   \n",
       "7795-CFOCW                  1                  0                 0   \n",
       "9237-HQITU                  0                  0                 1   \n",
       "\n",
       "            PaymentMethod_Credit card (automatic)  \\\n",
       "customerID                                          \n",
       "7590-VHVEG                                      0   \n",
       "5575-GNVDE                                      0   \n",
       "3668-QPYBK                                      0   \n",
       "7795-CFOCW                                      0   \n",
       "9237-HQITU                                      0   \n",
       "\n",
       "            PaymentMethod_Electronic check  PaymentMethod_Mailed check  Churn  \n",
       "customerID                                                                     \n",
       "7590-VHVEG                               1                           0      0  \n",
       "5575-GNVDE                               0                           1      0  \n",
       "3668-QPYBK                               0                           1      1  \n",
       "7795-CFOCW                               0                           0      0  \n",
       "9237-HQITU                               1                           0      1  \n",
       "\n",
       "[5 rows x 26 columns]"
      ]
     },
     "execution_count": 233,
     "metadata": {},
     "output_type": "execute_result"
    }
   ],
   "source": [
    "# now our quantitative variables are scaled in the range (0,1)\n",
    "df.head()"
   ]
  },
  {
   "cell_type": "markdown",
   "metadata": {},
   "source": [
    "We still do not know which specification is better: with logarithmic or original total charges, so let's start with testing linear specification,"
   ]
  },
  {
   "cell_type": "markdown",
   "metadata": {},
   "source": [
    "To test the quality of our data we need to split data into train and test so as to avoid overfitting and \n",
    "improve generalization of our model"
   ]
  },
  {
   "cell_type": "code",
   "execution_count": 234,
   "metadata": {},
   "outputs": [],
   "source": [
    "seed = 31"
   ]
  },
  {
   "cell_type": "code",
   "execution_count": 235,
   "metadata": {},
   "outputs": [],
   "source": [
    "X_train, X_test, y_train, y_test = train_test_split(df.drop(['log_TotalCharges_scaled'], axis = 1).iloc[:,:-1], df.iloc[:,-1],random_state = seed )"
   ]
  },
  {
   "cell_type": "code",
   "execution_count": 236,
   "metadata": {},
   "outputs": [],
   "source": [
    "model = LogisticRegression()"
   ]
  },
  {
   "cell_type": "markdown",
   "metadata": {},
   "source": [
    "Now let's train our model on train set using cross-validation while choosing hyperparameters"
   ]
  },
  {
   "cell_type": "code",
   "execution_count": 237,
   "metadata": {
    "scrolled": true
   },
   "outputs": [
    {
     "name": "stdout",
     "output_type": "stream",
     "text": [
      "Grid-Search with AUC\n",
      "Best parameters: {'C': 10, 'penalty': 'l1'}\n",
      "Best cross-validation score (AUC): 0.830\n",
      "Test set AUC: 0.848\n"
     ]
    },
    {
     "data": {
      "image/png": "[encoded data removed]",
      "text/plain": [
       "<Figure size 432x288 with 1 Axes>"
      ]
     },
     "metadata": {
      "needs_background": "light"
     },
     "output_type": "display_data"
    }
   ],
   "source": [
    "param_grid = {'penalty': ['l1', 'l2'], \n",
    "             'C': [0.001, 0.01, 0.1, 1, 10, 100, 1000]}\n",
    "cv = ShuffleSplit(train_size=0.8, test_size=0.2, n_splits=10, random_state = seed)\n",
    "grid_search = GridSearchCV(model, param_grid=param_grid, cv = cv, scoring='roc_auc')\n",
    "grid_search.fit(X_train, y_train)\n",
    "results = pd.DataFrame(grid_search.cv_results_)\n",
    "scores = np.array(results.mean_test_score).reshape(7, 2).T\n",
    "mglearn.tools.heatmap(scores, xlabel='C', xticklabels=param_grid['C'],\n",
    "                      ylabel='penalty', yticklabels=param_grid['penalty'], cmap=\"viridis\")\n",
    "print(\"Grid-Search with AUC\")\n",
    "print(\"Best parameters:\", grid_search.best_params_)\n",
    "print(\"Best cross-validation score (AUC): {:.3f}\".format(grid_search.best_score_))\n",
    "print(\"Test set AUC: {:.3f}\".format(roc_auc_score(y_test, grid_search.decision_function(X_test))))"
   ]
  },
  {
   "cell_type": "markdown",
   "metadata": {},
   "source": [
    "Now let's try the logarithmic total charges"
   ]
  },
  {
   "cell_type": "code",
   "execution_count": 238,
   "metadata": {},
   "outputs": [],
   "source": [
    "X_train, X_test, y_train, y_test = train_test_split(df.drop(['TotalCharges_scaled'], axis = 1).iloc[:,:-1], df.iloc[:,-1], random_state = seed)"
   ]
  },
  {
   "cell_type": "code",
   "execution_count": 239,
   "metadata": {},
   "outputs": [
    {
     "name": "stdout",
     "output_type": "stream",
     "text": [
      "Grid-Search with AUC\n",
      "Best parameters: {'C': 1, 'penalty': 'l2'}\n",
      "Best cross-validation score (AUC): 0.835\n",
      "Test set AUC: 0.854\n"
     ]
    },
    {
     "data": {
      "image/png": "[encoded data removed]",
      "text/plain": [
       "<Figure size 432x288 with 1 Axes>"
      ]
     },
     "metadata": {
      "needs_background": "light"
     },
     "output_type": "display_data"
    }
   ],
   "source": [
    "grid_search = GridSearchCV(model, param_grid=param_grid, cv = cv, scoring='roc_auc')\n",
    "grid_search.fit(X_train, y_train)\n",
    "results = pd.DataFrame(grid_search.cv_results_)\n",
    "scores = np.array(results.mean_test_score).reshape(7, 2).T\n",
    "mglearn.tools.heatmap(scores, xlabel='C', xticklabels=param_grid['C'],\n",
    "                      ylabel='penalty', yticklabels=param_grid['penalty'], cmap=\"viridis\")\n",
    "print(\"Grid-Search with AUC\")\n",
    "print(\"Best parameters:\", grid_search.best_params_)\n",
    "print(\"Best cross-validation score (AUC): {:.3f}\".format(grid_search.best_score_))\n",
    "print(\"Test set AUC: {:.3f}\".format(roc_auc_score(y_test, grid_search.decision_function(X_test))))"
   ]
  },
  {
   "cell_type": "markdown",
   "metadata": {},
   "source": [
    "We see that the best quality can be obtained with l2 penalty and C = 1 and logarithmic transformation of total charges."
   ]
  },
  {
   "cell_type": "markdown",
   "metadata": {},
   "source": [
    "Now let's plot lift and gain curves for the chosen model"
   ]
  },
  {
   "cell_type": "code",
   "execution_count": 240,
   "metadata": {},
   "outputs": [],
   "source": [
    "df = df.drop(['TotalCharges_scaled'], axis = 1)"
   ]
  },
  {
   "cell_type": "markdown",
   "metadata": {},
   "source": [
    "# Lift and gain charts of the optimized model"
   ]
  },
  {
   "cell_type": "code",
   "execution_count": 241,
   "metadata": {},
   "outputs": [],
   "source": [
    "X_train, X_test, y_train, y_test = train_test_split(df.iloc[:,:-1], df.iloc[:,-1], random_state = seed)"
   ]
  },
  {
   "cell_type": "markdown",
   "metadata": {},
   "source": [
    "Let's look at the Lift Curve. As we can see, lift drops steeply from around 5 - to around 12 % of the sample, and then declines at approximately the same rate"
   ]
  },
  {
   "cell_type": "code",
   "execution_count": 242,
   "metadata": {},
   "outputs": [
    {
     "data": {
      "text/plain": [
       "<matplotlib.axes._subplots.AxesSubplot at 0x1871431bbe0>"
      ]
     },
     "execution_count": 242,
     "metadata": {},
     "output_type": "execute_result"
    },
    {
     "data": {
      "image/png": "[encoded data removed]",
      "text/plain": [
       "<Figure size 432x288 with 1 Axes>"
      ]
     },
     "metadata": {
      "needs_background": "light"
     },
     "output_type": "display_data"
    },
    {
     "data": {
      "image/png": "[encoded data removed]",
      "text/plain": [
       "<Figure size 432x288 with 1 Axes>"
      ]
     },
     "metadata": {
      "needs_background": "light"
     },
     "output_type": "display_data"
    },
    {
     "data": {
      "image/png": "[encoded data removed]",
      "text/plain": [
       "<Figure size 432x288 with 1 Axes>"
      ]
     },
     "metadata": {
      "needs_background": "light"
     },
     "output_type": "display_data"
    },
    {
     "data": {
      "image/png": "[encoded data removed]",
      "text/plain": [
       "<Figure size 432x288 with 1 Axes>"
      ]
     },
     "metadata": {
      "needs_background": "light"
     },
     "output_type": "display_data"
    }
   ],
   "source": [
    "model = LogisticRegression(C = grid_search.best_params_['C'], penalty = grid_search.best_params_['penalty'])\n",
    "model.fit(X_train, y_train)\n",
    "pred = model.predict_proba(X_test)\n",
    "skplt.metrics.plot_lift_curve(y_test.values, pred)\n",
    "skplt.metrics.plot_cumulative_gain(y_test.values, pred)\n",
    "skplt.metrics.plot_ks_statistic(y_test.values, pred)\n",
    "skplt.metrics.plot_roc_curve(y_test.values, pred)"
   ]
  },
  {
   "cell_type": "markdown",
   "metadata": {},
   "source": [
    "As we can see, lift curve becomes stable at around 5%, after that lift curve declines with the same rate."
   ]
  },
  {
   "cell_type": "markdown",
   "metadata": {},
   "source": [
    "# Using bootstrap for building CI of predictions"
   ]
  },
  {
   "cell_type": "markdown",
   "metadata": {},
   "source": [
    "We create a function which calculates CI for predictions and coefficients of the model and also computes\n",
    "some statistics of our metrics using bootstrap"
   ]
  },
  {
   "cell_type": "code",
   "execution_count": 243,
   "metadata": {},
   "outputs": [],
   "source": [
    "np.random.seed(seed)"
   ]
  },
  {
   "cell_type": "code",
   "execution_count": 244,
   "metadata": {},
   "outputs": [],
   "source": [
    "def bootstrap(df, n):\n",
    "    all_preds = []\n",
    "    all_coefs = []\n",
    "    auc_score = []\n",
    "    for i in range(n):\n",
    "        indices = np.random.choice(range(len(X_train)), size = len(X_train), replace=True)\n",
    "        X_tr, y_tr = X_train.iloc[list(indices)], y_train[list(indices)]\n",
    "        model = LogisticRegression(C=1, penalty = 'l1')\n",
    "        model.fit(X_train, y_train)\n",
    "        pred = model.predict_proba(X_test)\n",
    "        coefs = model.coef_\n",
    "        all_coefs.append(model.coef_[0])\n",
    "        all_preds.append(pred[:,1])\n",
    "        auc_score.append(roc_auc_score(y_test, pred[:,1]))\n",
    "    return np.array(auc_score), np.array(all_preds), np.array(all_coefs)"
   ]
  },
  {
   "cell_type": "code",
   "execution_count": 245,
   "metadata": {},
   "outputs": [],
   "source": [
    "scores, all_preds, all_coefs = bootstrap(X_train, 1000)"
   ]
  },
  {
   "cell_type": "markdown",
   "metadata": {},
   "source": [
    "Let's take a look at the statistics of the training score (AUC):"
   ]
  },
  {
   "cell_type": "code",
   "execution_count": 246,
   "metadata": {},
   "outputs": [
    {
     "data": {
      "text/plain": [
       "count    1000.000000\n",
       "mean        0.854465\n",
       "std         0.000008\n",
       "min         0.854416\n",
       "25%         0.854463\n",
       "50%         0.854467\n",
       "75%         0.854468\n",
       "max         0.854493\n",
       "dtype: float64"
      ]
     },
     "execution_count": 246,
     "metadata": {},
     "output_type": "execute_result"
    }
   ],
   "source": [
    "pd.Series(scores).describe()"
   ]
  },
  {
   "cell_type": "markdown",
   "metadata": {},
   "source": [
    "Then we'll calculate 95% confidence intervals for our predictions and coefficients of the model using bootsrap:"
   ]
  },
  {
   "cell_type": "code",
   "execution_count": 247,
   "metadata": {
    "scrolled": true
   },
   "outputs": [
    {
     "data": {
      "text/html": [
       "<div>\n",
       "<style scoped>\n",
       "    .dataframe tbody tr th:only-of-type {\n",
       "        vertical-align: middle;\n",
       "    }\n",
       "\n",
       "    .dataframe tbody tr th {\n",
       "        vertical-align: top;\n",
       "    }\n",
       "\n",
       "    .dataframe thead th {\n",
       "        text-align: right;\n",
       "    }\n",
       "</style>\n",
       "<table border=\"1\" class=\"dataframe\">\n",
       "  <thead>\n",
       "    <tr style=\"text-align: right;\">\n",
       "      <th></th>\n",
       "      <th>prediction</th>\n",
       "      <th>upper bound (97.5%)</th>\n",
       "      <th>lower bound (2.5%)</th>\n",
       "    </tr>\n",
       "  </thead>\n",
       "  <tbody>\n",
       "    <tr>\n",
       "      <th>0</th>\n",
       "      <td>0.427779</td>\n",
       "      <td>0.427814</td>\n",
       "      <td>0.427745</td>\n",
       "    </tr>\n",
       "    <tr>\n",
       "      <th>1</th>\n",
       "      <td>0.036694</td>\n",
       "      <td>0.036719</td>\n",
       "      <td>0.036686</td>\n",
       "    </tr>\n",
       "    <tr>\n",
       "      <th>2</th>\n",
       "      <td>0.660459</td>\n",
       "      <td>0.660550</td>\n",
       "      <td>0.660416</td>\n",
       "    </tr>\n",
       "    <tr>\n",
       "      <th>3</th>\n",
       "      <td>0.761649</td>\n",
       "      <td>0.761676</td>\n",
       "      <td>0.761607</td>\n",
       "    </tr>\n",
       "    <tr>\n",
       "      <th>4</th>\n",
       "      <td>0.016554</td>\n",
       "      <td>0.016566</td>\n",
       "      <td>0.016550</td>\n",
       "    </tr>\n",
       "  </tbody>\n",
       "</table>\n",
       "</div>"
      ],
      "text/plain": [
       "   prediction  upper bound (97.5%)  lower bound (2.5%)\n",
       "0    0.427779             0.427814            0.427745\n",
       "1    0.036694             0.036719            0.036686\n",
       "2    0.660459             0.660550            0.660416\n",
       "3    0.761649             0.761676            0.761607\n",
       "4    0.016554             0.016566            0.016550"
      ]
     },
     "execution_count": 247,
     "metadata": {},
     "output_type": "execute_result"
    }
   ],
   "source": [
    "CIs = pd.DataFrame({'prediction': np.array(all_preds).mean(axis = 0), 'upper bound (97.5%)': np.percentile(all_preds, 97.5, axis = 0), 'lower bound (2.5%)': np.percentile(all_preds, 2.5, axis = 0) })\n",
    "CIs.head()"
   ]
  },
  {
   "cell_type": "markdown",
   "metadata": {},
   "source": [
    "Now let's calculate 95% confidence intervals for coefficients:"
   ]
  },
  {
   "cell_type": "code",
   "execution_count": 248,
   "metadata": {},
   "outputs": [
    {
     "data": {
      "text/html": [
       "<div>\n",
       "<style scoped>\n",
       "    .dataframe tbody tr th:only-of-type {\n",
       "        vertical-align: middle;\n",
       "    }\n",
       "\n",
       "    .dataframe tbody tr th {\n",
       "        vertical-align: top;\n",
       "    }\n",
       "\n",
       "    .dataframe thead th {\n",
       "        text-align: right;\n",
       "    }\n",
       "</style>\n",
       "<table border=\"1\" class=\"dataframe\">\n",
       "  <thead>\n",
       "    <tr style=\"text-align: right;\">\n",
       "      <th></th>\n",
       "      <th>feature</th>\n",
       "      <th>coefficient</th>\n",
       "      <th>upper bound(97.5%)</th>\n",
       "      <th>lower bound(2.5%)</th>\n",
       "    </tr>\n",
       "  </thead>\n",
       "  <tbody>\n",
       "    <tr>\n",
       "      <th>0</th>\n",
       "      <td>SeniorCitizen</td>\n",
       "      <td>0.236325</td>\n",
       "      <td>0.236413</td>\n",
       "      <td>0.236265</td>\n",
       "    </tr>\n",
       "    <tr>\n",
       "      <th>1</th>\n",
       "      <td>tenure_scaled</td>\n",
       "      <td>-0.268389</td>\n",
       "      <td>-0.267644</td>\n",
       "      <td>-0.269878</td>\n",
       "    </tr>\n",
       "    <tr>\n",
       "      <th>2</th>\n",
       "      <td>MonthlyCharges_scaled</td>\n",
       "      <td>0.000000</td>\n",
       "      <td>0.000000</td>\n",
       "      <td>0.000000</td>\n",
       "    </tr>\n",
       "    <tr>\n",
       "      <th>3</th>\n",
       "      <td>log_TotalCharges_scaled</td>\n",
       "      <td>-3.372636</td>\n",
       "      <td>-3.369402</td>\n",
       "      <td>-3.373790</td>\n",
       "    </tr>\n",
       "    <tr>\n",
       "      <th>4</th>\n",
       "      <td>gender_Male</td>\n",
       "      <td>-0.021853</td>\n",
       "      <td>-0.021593</td>\n",
       "      <td>-0.021931</td>\n",
       "    </tr>\n",
       "  </tbody>\n",
       "</table>\n",
       "</div>"
      ],
      "text/plain": [
       "                   feature  coefficient  upper bound(97.5%)  lower bound(2.5%)\n",
       "0            SeniorCitizen     0.236325            0.236413           0.236265\n",
       "1            tenure_scaled    -0.268389           -0.267644          -0.269878\n",
       "2    MonthlyCharges_scaled     0.000000            0.000000           0.000000\n",
       "3  log_TotalCharges_scaled    -3.372636           -3.369402          -3.373790\n",
       "4              gender_Male    -0.021853           -0.021593          -0.021931"
      ]
     },
     "execution_count": 248,
     "metadata": {},
     "output_type": "execute_result"
    }
   ],
   "source": [
    "CIs = pd.DataFrame({'feature':X_train.columns, 'coefficient': np.array(all_coefs).mean(axis = 0), 'upper bound(97.5%)': np.percentile(all_coefs, 97.5, axis = 0), 'lower bound(2.5%)': np.percentile(all_coefs, 2.5, axis = 0) })\n",
    "CIs.head()"
   ]
  },
  {
   "cell_type": "markdown",
   "metadata": {},
   "source": [
    "# Cut-off selection"
   ]
  },
  {
   "cell_type": "markdown",
   "metadata": {},
   "source": [
    "Now let's find break even point for the targeting campaign."
   ]
  },
  {
   "cell_type": "code",
   "execution_count": 249,
   "metadata": {},
   "outputs": [
    {
     "data": {
      "text/plain": [
       "LogisticRegression(C=1, class_weight=None, dual=False, fit_intercept=True,\n",
       "          intercept_scaling=1, max_iter=100, multi_class='ovr', n_jobs=1,\n",
       "          penalty='l2', random_state=None, solver='liblinear', tol=0.0001,\n",
       "          verbose=0, warm_start=False)"
      ]
     },
     "execution_count": 249,
     "metadata": {},
     "output_type": "execute_result"
    }
   ],
   "source": [
    "model = LogisticRegression(C = grid_search.best_params_['C'], penalty = grid_search.best_params_['penalty'])\n",
    "model.fit(df.iloc[:,:-1], df.iloc[:,-1])"
   ]
  },
  {
   "cell_type": "code",
   "execution_count": 250,
   "metadata": {},
   "outputs": [],
   "source": [
    "def break_even(df, model, plot_start = 0, plot_end = None):\n",
    "    pred = model.predict_proba(df.iloc[:,:-1])          # predicting the probability of churning\n",
    "    series = pd.Series(pred[:,1], index = df.index)     # building a series with customer ID as index\n",
    "    series.sort_values(ascending = False, inplace = True)\n",
    "    prob = series.values                # probability of churning for each customer in descending order\n",
    "    revenues = 25 * 0.25 * prob         # expected revenues from retention campaign for each customer\n",
    "    cum_revenues = np.array([sum(revenues[:i + 1]) for i in range(len(revenues))])    # cumulative expected revenues\n",
    "    cost = np.array([5 * (i + 1) for i in range(len(revenues))])                      # cumulative cost\n",
    "    profit = cum_revenues - cost\n",
    "    \n",
    "    if plot_end == None:\n",
    "        plot_end = len(revenues)\n",
    "      \n",
    "    plt.plot([i + 1 for i in range(plot_start, plot_end)], cost[plot_start:plot_end])\n",
    "    plt.plot([i + 1 for i in range(plot_start, plot_end)], cum_revenues[plot_start:plot_end])\n",
    "    plt.xlabel('Number of people targeted with the campaign')\n",
    "    plt.ylabel('Euros')\n",
    "    plt.legend(['Costs', 'Revenues'])\n",
    "    plt.title('Break even')\n",
    "    plt.show()\n",
    "    \n",
    "    plt.plot([i + 1 for i in range(plot_start, plot_end)], profit[plot_start:plot_end])\n",
    "    plt.xlabel('Number of people targeted with the campaign')\n",
    "    plt.ylabel('Total profit (Revenue - Costs)')\n",
    "    plt.title('Profit')\n",
    "    plt.show()\n",
    "    \n",
    "    max_profit_customers, max_customers = np.where(profit == max(profit))[0][0] + 1, np.where(profit < 0)[0][0]\n",
    "    \n",
    "    print('Maximum number of customer to be targeted without losing money: {} (Break even point)'.format(max_customers))\n",
    "    print('Number of customer to be targeted for maximum profit: {}'.format(max_profit_customers))\n",
    "    print('The function returns a list of customers to be contacted by the retention campaign')\n",
    "    \n",
    "    return series.index[:max_customers]"
   ]
  },
  {
   "cell_type": "code",
   "execution_count": 251,
   "metadata": {
    "scrolled": true
   },
   "outputs": [
    {
     "data": {
      "image/png": "[encoded data removed]",
      "text/plain": [
       "<Figure size 432x288 with 1 Axes>"
      ]
     },
     "metadata": {
      "needs_background": "light"
     },
     "output_type": "display_data"
    },
    {
     "data": {
      "image/png": "[encoded data removed]",
      "text/plain": [
       "<Figure size 432x288 with 1 Axes>"
      ]
     },
     "metadata": {
      "needs_background": "light"
     },
     "output_type": "display_data"
    },
    {
     "name": "stdout",
     "output_type": "stream",
     "text": [
      "Maximum number of customer to be targeted without losing money: 479 (Break even point)\n",
      "Number of customer to be targeted for maximum profit: 219\n",
      "The function returns a list of customers to be contacted by the retention campaign\n"
     ]
    },
    {
     "data": {
      "text/plain": [
       "Index(['7216-EWTRS', '5178-LMXOP', '9497-QCMMS', '9300-AGZNL', '5419-JPRRN',\n",
       "       '8149-RSOUN', '4910-GMJOT', '0295-PPHDO', '3068-OMWZA', '4826-XTSOH',\n",
       "       ...\n",
       "       '3462-BJQQA', '7242-QZLXF', '1251-STYSZ', '0495-ZBNGW', '9334-GWGOW',\n",
       "       '2424-WVHPL', '9894-EZEWG', '6275-YDUVO', '3186-BAXNB', '6683-VLCTZ'],\n",
       "      dtype='object', name='customerID', length=479)"
      ]
     },
     "execution_count": 251,
     "metadata": {},
     "output_type": "execute_result"
    }
   ],
   "source": [
    "break_even(df, model, 0, 600)"
   ]
  },
  {
   "cell_type": "markdown",
   "metadata": {},
   "source": [
    "## PCA"
   ]
  },
  {
   "cell_type": "markdown",
   "metadata": {},
   "source": [
    "Now we'll try to make linear combinations of our features (PC) and see whether it improves the quality of our model."
   ]
  },
  {
   "cell_type": "markdown",
   "metadata": {},
   "source": [
    "Obviously, it is not an option to transform categorical variables, so we test the quality of the model with PCA\n",
    "only transforming quantitative features:"
   ]
  },
  {
   "cell_type": "code",
   "execution_count": 252,
   "metadata": {},
   "outputs": [
    {
     "data": {
      "text/html": [
       "<div>\n",
       "<style scoped>\n",
       "    .dataframe tbody tr th:only-of-type {\n",
       "        vertical-align: middle;\n",
       "    }\n",
       "\n",
       "    .dataframe tbody tr th {\n",
       "        vertical-align: top;\n",
       "    }\n",
       "\n",
       "    .dataframe thead th {\n",
       "        text-align: right;\n",
       "    }\n",
       "</style>\n",
       "<table border=\"1\" class=\"dataframe\">\n",
       "  <thead>\n",
       "    <tr style=\"text-align: right;\">\n",
       "      <th></th>\n",
       "      <th>SeniorCitizen</th>\n",
       "      <th>tenure_scaled</th>\n",
       "      <th>MonthlyCharges_scaled</th>\n",
       "      <th>log_TotalCharges_scaled</th>\n",
       "      <th>gender_Male</th>\n",
       "      <th>Partner</th>\n",
       "      <th>Dependents</th>\n",
       "      <th>PhoneService</th>\n",
       "      <th>MultipleLines_No phone service</th>\n",
       "      <th>MultipleLines</th>\n",
       "      <th>...</th>\n",
       "      <th>TechSupport</th>\n",
       "      <th>StreamingTV</th>\n",
       "      <th>StreamingMovies</th>\n",
       "      <th>Contract_One year</th>\n",
       "      <th>Contract_Two year</th>\n",
       "      <th>PaperlessBilling</th>\n",
       "      <th>PaymentMethod_Credit card (automatic)</th>\n",
       "      <th>PaymentMethod_Electronic check</th>\n",
       "      <th>PaymentMethod_Mailed check</th>\n",
       "      <th>Churn</th>\n",
       "    </tr>\n",
       "  </thead>\n",
       "  <tbody>\n",
       "    <tr>\n",
       "      <th>0</th>\n",
       "      <td>0</td>\n",
       "      <td>0.000000</td>\n",
       "      <td>0.115538</td>\n",
       "      <td>0.075525</td>\n",
       "      <td>0</td>\n",
       "      <td>1</td>\n",
       "      <td>0</td>\n",
       "      <td>0</td>\n",
       "      <td>1</td>\n",
       "      <td>0</td>\n",
       "      <td>...</td>\n",
       "      <td>0</td>\n",
       "      <td>0</td>\n",
       "      <td>0</td>\n",
       "      <td>0</td>\n",
       "      <td>0</td>\n",
       "      <td>1</td>\n",
       "      <td>0</td>\n",
       "      <td>1</td>\n",
       "      <td>0</td>\n",
       "      <td>0</td>\n",
       "    </tr>\n",
       "    <tr>\n",
       "      <th>1</th>\n",
       "      <td>0</td>\n",
       "      <td>0.471429</td>\n",
       "      <td>0.385458</td>\n",
       "      <td>0.753111</td>\n",
       "      <td>1</td>\n",
       "      <td>0</td>\n",
       "      <td>0</td>\n",
       "      <td>1</td>\n",
       "      <td>0</td>\n",
       "      <td>0</td>\n",
       "      <td>...</td>\n",
       "      <td>0</td>\n",
       "      <td>0</td>\n",
       "      <td>0</td>\n",
       "      <td>1</td>\n",
       "      <td>0</td>\n",
       "      <td>0</td>\n",
       "      <td>0</td>\n",
       "      <td>0</td>\n",
       "      <td>1</td>\n",
       "      <td>0</td>\n",
       "    </tr>\n",
       "    <tr>\n",
       "      <th>2</th>\n",
       "      <td>0</td>\n",
       "      <td>0.014286</td>\n",
       "      <td>0.354582</td>\n",
       "      <td>0.285820</td>\n",
       "      <td>1</td>\n",
       "      <td>0</td>\n",
       "      <td>0</td>\n",
       "      <td>1</td>\n",
       "      <td>0</td>\n",
       "      <td>0</td>\n",
       "      <td>...</td>\n",
       "      <td>0</td>\n",
       "      <td>0</td>\n",
       "      <td>0</td>\n",
       "      <td>0</td>\n",
       "      <td>0</td>\n",
       "      <td>1</td>\n",
       "      <td>0</td>\n",
       "      <td>0</td>\n",
       "      <td>1</td>\n",
       "      <td>1</td>\n",
       "    </tr>\n",
       "    <tr>\n",
       "      <th>3</th>\n",
       "      <td>0</td>\n",
       "      <td>0.628571</td>\n",
       "      <td>0.239542</td>\n",
       "      <td>0.748841</td>\n",
       "      <td>1</td>\n",
       "      <td>0</td>\n",
       "      <td>0</td>\n",
       "      <td>0</td>\n",
       "      <td>1</td>\n",
       "      <td>0</td>\n",
       "      <td>...</td>\n",
       "      <td>1</td>\n",
       "      <td>0</td>\n",
       "      <td>0</td>\n",
       "      <td>1</td>\n",
       "      <td>0</td>\n",
       "      <td>0</td>\n",
       "      <td>0</td>\n",
       "      <td>0</td>\n",
       "      <td>0</td>\n",
       "      <td>0</td>\n",
       "    </tr>\n",
       "    <tr>\n",
       "      <th>4</th>\n",
       "      <td>0</td>\n",
       "      <td>0.014286</td>\n",
       "      <td>0.522410</td>\n",
       "      <td>0.341044</td>\n",
       "      <td>0</td>\n",
       "      <td>0</td>\n",
       "      <td>0</td>\n",
       "      <td>1</td>\n",
       "      <td>0</td>\n",
       "      <td>0</td>\n",
       "      <td>...</td>\n",
       "      <td>0</td>\n",
       "      <td>0</td>\n",
       "      <td>0</td>\n",
       "      <td>0</td>\n",
       "      <td>0</td>\n",
       "      <td>1</td>\n",
       "      <td>0</td>\n",
       "      <td>1</td>\n",
       "      <td>0</td>\n",
       "      <td>1</td>\n",
       "    </tr>\n",
       "  </tbody>\n",
       "</table>\n",
       "<p>5 rows × 25 columns</p>\n",
       "</div>"
      ],
      "text/plain": [
       "   SeniorCitizen  tenure_scaled  MonthlyCharges_scaled  \\\n",
       "0              0       0.000000               0.115538   \n",
       "1              0       0.471429               0.385458   \n",
       "2              0       0.014286               0.354582   \n",
       "3              0       0.628571               0.239542   \n",
       "4              0       0.014286               0.522410   \n",
       "\n",
       "   log_TotalCharges_scaled  gender_Male  Partner  Dependents  PhoneService  \\\n",
       "0                 0.075525            0        1           0             0   \n",
       "1                 0.753111            1        0           0             1   \n",
       "2                 0.285820            1        0           0             1   \n",
       "3                 0.748841            1        0           0             0   \n",
       "4                 0.341044            0        0           0             1   \n",
       "\n",
       "   MultipleLines_No phone service  MultipleLines  ...    TechSupport  \\\n",
       "0                               1              0  ...              0   \n",
       "1                               0              0  ...              0   \n",
       "2                               0              0  ...              0   \n",
       "3                               1              0  ...              1   \n",
       "4                               0              0  ...              0   \n",
       "\n",
       "   StreamingTV  StreamingMovies  Contract_One year  Contract_Two year  \\\n",
       "0            0                0                  0                  0   \n",
       "1            0                0                  1                  0   \n",
       "2            0                0                  0                  0   \n",
       "3            0                0                  1                  0   \n",
       "4            0                0                  0                  0   \n",
       "\n",
       "   PaperlessBilling  PaymentMethod_Credit card (automatic)  \\\n",
       "0                 1                                      0   \n",
       "1                 0                                      0   \n",
       "2                 1                                      0   \n",
       "3                 0                                      0   \n",
       "4                 1                                      0   \n",
       "\n",
       "   PaymentMethod_Electronic check  PaymentMethod_Mailed check  Churn  \n",
       "0                               1                           0      0  \n",
       "1                               0                           1      0  \n",
       "2                               0                           1      1  \n",
       "3                               0                           0      0  \n",
       "4                               1                           0      1  \n",
       "\n",
       "[5 rows x 25 columns]"
      ]
     },
     "execution_count": 252,
     "metadata": {},
     "output_type": "execute_result"
    }
   ],
   "source": [
    "df.reset_index(inplace=True)\n",
    "df.drop('customerID', axis = 1, inplace=True)\n",
    "df.head()"
   ]
  },
  {
   "cell_type": "markdown",
   "metadata": {},
   "source": [
    "Firstly let's try to replace out numeric variables **only with first PC** (out of 3):"
   ]
  },
  {
   "cell_type": "code",
   "execution_count": 253,
   "metadata": {},
   "outputs": [
    {
     "name": "stdout",
     "output_type": "stream",
     "text": [
      "1st PC explains 0.44299489430932093 of total variance of numeric variables\n"
     ]
    }
   ],
   "source": [
    "X_s = StandardScaler().fit_transform(df.iloc[:,:3])\n",
    "pca = PCA(n_components = 1)\n",
    "df_pca = pd.DataFrame(pca.fit_transform(X_s), columns = ['PC {0}'.format(i + 1) for i in range(1)])\n",
    "print('1st PC explains', sum(pca.explained_variance_ratio_), 'of total variance of numeric variables')"
   ]
  },
  {
   "cell_type": "code",
   "execution_count": 254,
   "metadata": {},
   "outputs": [
    {
     "data": {
      "text/html": [
       "<div>\n",
       "<style scoped>\n",
       "    .dataframe tbody tr th:only-of-type {\n",
       "        vertical-align: middle;\n",
       "    }\n",
       "\n",
       "    .dataframe tbody tr th {\n",
       "        vertical-align: top;\n",
       "    }\n",
       "\n",
       "    .dataframe thead th {\n",
       "        text-align: right;\n",
       "    }\n",
       "</style>\n",
       "<table border=\"1\" class=\"dataframe\">\n",
       "  <thead>\n",
       "    <tr style=\"text-align: right;\">\n",
       "      <th></th>\n",
       "      <th>PC 1</th>\n",
       "      <th>SeniorCitizen</th>\n",
       "      <th>tenure_scaled</th>\n",
       "      <th>MonthlyCharges_scaled</th>\n",
       "      <th>log_TotalCharges_scaled</th>\n",
       "      <th>gender_Male</th>\n",
       "      <th>Partner</th>\n",
       "      <th>Dependents</th>\n",
       "      <th>PhoneService</th>\n",
       "      <th>MultipleLines_No phone service</th>\n",
       "      <th>...</th>\n",
       "      <th>TechSupport</th>\n",
       "      <th>StreamingTV</th>\n",
       "      <th>StreamingMovies</th>\n",
       "      <th>Contract_One year</th>\n",
       "      <th>Contract_Two year</th>\n",
       "      <th>PaperlessBilling</th>\n",
       "      <th>PaymentMethod_Credit card (automatic)</th>\n",
       "      <th>PaymentMethod_Electronic check</th>\n",
       "      <th>PaymentMethod_Mailed check</th>\n",
       "      <th>Churn</th>\n",
       "    </tr>\n",
       "  </thead>\n",
       "  <tbody>\n",
       "    <tr>\n",
       "      <th>0</th>\n",
       "      <td>-1.656681</td>\n",
       "      <td>0</td>\n",
       "      <td>0.000000</td>\n",
       "      <td>0.115538</td>\n",
       "      <td>0.075525</td>\n",
       "      <td>0</td>\n",
       "      <td>1</td>\n",
       "      <td>0</td>\n",
       "      <td>0</td>\n",
       "      <td>1</td>\n",
       "      <td>...</td>\n",
       "      <td>0</td>\n",
       "      <td>0</td>\n",
       "      <td>0</td>\n",
       "      <td>0</td>\n",
       "      <td>0</td>\n",
       "      <td>1</td>\n",
       "      <td>0</td>\n",
       "      <td>1</td>\n",
       "      <td>0</td>\n",
       "      <td>0</td>\n",
       "    </tr>\n",
       "    <tr>\n",
       "      <th>1</th>\n",
       "      <td>-0.307392</td>\n",
       "      <td>0</td>\n",
       "      <td>0.471429</td>\n",
       "      <td>0.385458</td>\n",
       "      <td>0.753111</td>\n",
       "      <td>1</td>\n",
       "      <td>0</td>\n",
       "      <td>0</td>\n",
       "      <td>1</td>\n",
       "      <td>0</td>\n",
       "      <td>...</td>\n",
       "      <td>0</td>\n",
       "      <td>0</td>\n",
       "      <td>0</td>\n",
       "      <td>1</td>\n",
       "      <td>0</td>\n",
       "      <td>0</td>\n",
       "      <td>0</td>\n",
       "      <td>0</td>\n",
       "      <td>1</td>\n",
       "      <td>0</td>\n",
       "    </tr>\n",
       "    <tr>\n",
       "      <th>2</th>\n",
       "      <td>-1.073101</td>\n",
       "      <td>0</td>\n",
       "      <td>0.014286</td>\n",
       "      <td>0.354582</td>\n",
       "      <td>0.285820</td>\n",
       "      <td>1</td>\n",
       "      <td>0</td>\n",
       "      <td>0</td>\n",
       "      <td>1</td>\n",
       "      <td>0</td>\n",
       "      <td>...</td>\n",
       "      <td>0</td>\n",
       "      <td>0</td>\n",
       "      <td>0</td>\n",
       "      <td>0</td>\n",
       "      <td>0</td>\n",
       "      <td>1</td>\n",
       "      <td>0</td>\n",
       "      <td>0</td>\n",
       "      <td>1</td>\n",
       "      <td>1</td>\n",
       "    </tr>\n",
       "    <tr>\n",
       "      <th>3</th>\n",
       "      <td>-0.412134</td>\n",
       "      <td>0</td>\n",
       "      <td>0.628571</td>\n",
       "      <td>0.239542</td>\n",
       "      <td>0.748841</td>\n",
       "      <td>1</td>\n",
       "      <td>0</td>\n",
       "      <td>0</td>\n",
       "      <td>0</td>\n",
       "      <td>1</td>\n",
       "      <td>...</td>\n",
       "      <td>1</td>\n",
       "      <td>0</td>\n",
       "      <td>0</td>\n",
       "      <td>1</td>\n",
       "      <td>0</td>\n",
       "      <td>0</td>\n",
       "      <td>0</td>\n",
       "      <td>0</td>\n",
       "      <td>0</td>\n",
       "      <td>0</td>\n",
       "    </tr>\n",
       "    <tr>\n",
       "      <th>4</th>\n",
       "      <td>-0.678587</td>\n",
       "      <td>0</td>\n",
       "      <td>0.014286</td>\n",
       "      <td>0.522410</td>\n",
       "      <td>0.341044</td>\n",
       "      <td>0</td>\n",
       "      <td>0</td>\n",
       "      <td>0</td>\n",
       "      <td>1</td>\n",
       "      <td>0</td>\n",
       "      <td>...</td>\n",
       "      <td>0</td>\n",
       "      <td>0</td>\n",
       "      <td>0</td>\n",
       "      <td>0</td>\n",
       "      <td>0</td>\n",
       "      <td>1</td>\n",
       "      <td>0</td>\n",
       "      <td>1</td>\n",
       "      <td>0</td>\n",
       "      <td>1</td>\n",
       "    </tr>\n",
       "  </tbody>\n",
       "</table>\n",
       "<p>5 rows × 26 columns</p>\n",
       "</div>"
      ],
      "text/plain": [
       "       PC 1  SeniorCitizen  tenure_scaled  MonthlyCharges_scaled  \\\n",
       "0 -1.656681              0       0.000000               0.115538   \n",
       "1 -0.307392              0       0.471429               0.385458   \n",
       "2 -1.073101              0       0.014286               0.354582   \n",
       "3 -0.412134              0       0.628571               0.239542   \n",
       "4 -0.678587              0       0.014286               0.522410   \n",
       "\n",
       "   log_TotalCharges_scaled  gender_Male  Partner  Dependents  PhoneService  \\\n",
       "0                 0.075525            0        1           0             0   \n",
       "1                 0.753111            1        0           0             1   \n",
       "2                 0.285820            1        0           0             1   \n",
       "3                 0.748841            1        0           0             0   \n",
       "4                 0.341044            0        0           0             1   \n",
       "\n",
       "   MultipleLines_No phone service  ...    TechSupport  StreamingTV  \\\n",
       "0                               1  ...              0            0   \n",
       "1                               0  ...              0            0   \n",
       "2                               0  ...              0            0   \n",
       "3                               1  ...              1            0   \n",
       "4                               0  ...              0            0   \n",
       "\n",
       "   StreamingMovies  Contract_One year  Contract_Two year  PaperlessBilling  \\\n",
       "0                0                  0                  0                 1   \n",
       "1                0                  1                  0                 0   \n",
       "2                0                  0                  0                 1   \n",
       "3                0                  1                  0                 0   \n",
       "4                0                  0                  0                 1   \n",
       "\n",
       "   PaymentMethod_Credit card (automatic)  PaymentMethod_Electronic check  \\\n",
       "0                                      0                               1   \n",
       "1                                      0                               0   \n",
       "2                                      0                               0   \n",
       "3                                      0                               0   \n",
       "4                                      0                               1   \n",
       "\n",
       "   PaymentMethod_Mailed check  Churn  \n",
       "0                           0      0  \n",
       "1                           1      0  \n",
       "2                           1      1  \n",
       "3                           0      0  \n",
       "4                           0      1  \n",
       "\n",
       "[5 rows x 26 columns]"
      ]
     },
     "execution_count": 254,
     "metadata": {},
     "output_type": "execute_result"
    }
   ],
   "source": [
    "df_pca = pd.merge(df_pca, df, left_index=True, right_index=True)\n",
    "df_pca.head()"
   ]
  },
  {
   "cell_type": "code",
   "execution_count": 255,
   "metadata": {},
   "outputs": [
    {
     "data": {
      "text/html": [
       "<div>\n",
       "<style scoped>\n",
       "    .dataframe tbody tr th:only-of-type {\n",
       "        vertical-align: middle;\n",
       "    }\n",
       "\n",
       "    .dataframe tbody tr th {\n",
       "        vertical-align: top;\n",
       "    }\n",
       "\n",
       "    .dataframe thead th {\n",
       "        text-align: right;\n",
       "    }\n",
       "</style>\n",
       "<table border=\"1\" class=\"dataframe\">\n",
       "  <thead>\n",
       "    <tr style=\"text-align: right;\">\n",
       "      <th></th>\n",
       "      <th>PC 1</th>\n",
       "      <th>SeniorCitizen</th>\n",
       "      <th>gender_Male</th>\n",
       "      <th>Partner</th>\n",
       "      <th>Dependents</th>\n",
       "      <th>PhoneService</th>\n",
       "      <th>MultipleLines_No phone service</th>\n",
       "      <th>MultipleLines</th>\n",
       "      <th>InternetService_Fiber optic</th>\n",
       "      <th>InternetService_No</th>\n",
       "      <th>...</th>\n",
       "      <th>DeviceProtection</th>\n",
       "      <th>TechSupport</th>\n",
       "      <th>StreamingTV</th>\n",
       "      <th>StreamingMovies</th>\n",
       "      <th>Contract_One year</th>\n",
       "      <th>Contract_Two year</th>\n",
       "      <th>PaperlessBilling</th>\n",
       "      <th>PaymentMethod_Credit card (automatic)</th>\n",
       "      <th>PaymentMethod_Electronic check</th>\n",
       "      <th>PaymentMethod_Mailed check</th>\n",
       "    </tr>\n",
       "  </thead>\n",
       "  <tbody>\n",
       "    <tr>\n",
       "      <th>0</th>\n",
       "      <td>-1.656681</td>\n",
       "      <td>0</td>\n",
       "      <td>0</td>\n",
       "      <td>1</td>\n",
       "      <td>0</td>\n",
       "      <td>0</td>\n",
       "      <td>1</td>\n",
       "      <td>0</td>\n",
       "      <td>0</td>\n",
       "      <td>0</td>\n",
       "      <td>...</td>\n",
       "      <td>0</td>\n",
       "      <td>0</td>\n",
       "      <td>0</td>\n",
       "      <td>0</td>\n",
       "      <td>0</td>\n",
       "      <td>0</td>\n",
       "      <td>1</td>\n",
       "      <td>0</td>\n",
       "      <td>1</td>\n",
       "      <td>0</td>\n",
       "    </tr>\n",
       "    <tr>\n",
       "      <th>1</th>\n",
       "      <td>-0.307392</td>\n",
       "      <td>0</td>\n",
       "      <td>1</td>\n",
       "      <td>0</td>\n",
       "      <td>0</td>\n",
       "      <td>1</td>\n",
       "      <td>0</td>\n",
       "      <td>0</td>\n",
       "      <td>0</td>\n",
       "      <td>0</td>\n",
       "      <td>...</td>\n",
       "      <td>1</td>\n",
       "      <td>0</td>\n",
       "      <td>0</td>\n",
       "      <td>0</td>\n",
       "      <td>1</td>\n",
       "      <td>0</td>\n",
       "      <td>0</td>\n",
       "      <td>0</td>\n",
       "      <td>0</td>\n",
       "      <td>1</td>\n",
       "    </tr>\n",
       "    <tr>\n",
       "      <th>2</th>\n",
       "      <td>-1.073101</td>\n",
       "      <td>0</td>\n",
       "      <td>1</td>\n",
       "      <td>0</td>\n",
       "      <td>0</td>\n",
       "      <td>1</td>\n",
       "      <td>0</td>\n",
       "      <td>0</td>\n",
       "      <td>0</td>\n",
       "      <td>0</td>\n",
       "      <td>...</td>\n",
       "      <td>0</td>\n",
       "      <td>0</td>\n",
       "      <td>0</td>\n",
       "      <td>0</td>\n",
       "      <td>0</td>\n",
       "      <td>0</td>\n",
       "      <td>1</td>\n",
       "      <td>0</td>\n",
       "      <td>0</td>\n",
       "      <td>1</td>\n",
       "    </tr>\n",
       "    <tr>\n",
       "      <th>3</th>\n",
       "      <td>-0.412134</td>\n",
       "      <td>0</td>\n",
       "      <td>1</td>\n",
       "      <td>0</td>\n",
       "      <td>0</td>\n",
       "      <td>0</td>\n",
       "      <td>1</td>\n",
       "      <td>0</td>\n",
       "      <td>0</td>\n",
       "      <td>0</td>\n",
       "      <td>...</td>\n",
       "      <td>1</td>\n",
       "      <td>1</td>\n",
       "      <td>0</td>\n",
       "      <td>0</td>\n",
       "      <td>1</td>\n",
       "      <td>0</td>\n",
       "      <td>0</td>\n",
       "      <td>0</td>\n",
       "      <td>0</td>\n",
       "      <td>0</td>\n",
       "    </tr>\n",
       "    <tr>\n",
       "      <th>4</th>\n",
       "      <td>-0.678587</td>\n",
       "      <td>0</td>\n",
       "      <td>0</td>\n",
       "      <td>0</td>\n",
       "      <td>0</td>\n",
       "      <td>1</td>\n",
       "      <td>0</td>\n",
       "      <td>0</td>\n",
       "      <td>1</td>\n",
       "      <td>0</td>\n",
       "      <td>...</td>\n",
       "      <td>0</td>\n",
       "      <td>0</td>\n",
       "      <td>0</td>\n",
       "      <td>0</td>\n",
       "      <td>0</td>\n",
       "      <td>0</td>\n",
       "      <td>1</td>\n",
       "      <td>0</td>\n",
       "      <td>1</td>\n",
       "      <td>0</td>\n",
       "    </tr>\n",
       "  </tbody>\n",
       "</table>\n",
       "<p>5 rows × 22 columns</p>\n",
       "</div>"
      ],
      "text/plain": [
       "       PC 1  SeniorCitizen  gender_Male  Partner  Dependents  PhoneService  \\\n",
       "0 -1.656681              0            0        1           0             0   \n",
       "1 -0.307392              0            1        0           0             1   \n",
       "2 -1.073101              0            1        0           0             1   \n",
       "3 -0.412134              0            1        0           0             0   \n",
       "4 -0.678587              0            0        0           0             1   \n",
       "\n",
       "   MultipleLines_No phone service  MultipleLines  InternetService_Fiber optic  \\\n",
       "0                               1              0                            0   \n",
       "1                               0              0                            0   \n",
       "2                               0              0                            0   \n",
       "3                               1              0                            0   \n",
       "4                               0              0                            1   \n",
       "\n",
       "   InternetService_No             ...              DeviceProtection  \\\n",
       "0                   0             ...                             0   \n",
       "1                   0             ...                             1   \n",
       "2                   0             ...                             0   \n",
       "3                   0             ...                             1   \n",
       "4                   0             ...                             0   \n",
       "\n",
       "   TechSupport  StreamingTV  StreamingMovies  Contract_One year  \\\n",
       "0            0            0                0                  0   \n",
       "1            0            0                0                  1   \n",
       "2            0            0                0                  0   \n",
       "3            1            0                0                  1   \n",
       "4            0            0                0                  0   \n",
       "\n",
       "   Contract_Two year  PaperlessBilling  PaymentMethod_Credit card (automatic)  \\\n",
       "0                  0                 1                                      0   \n",
       "1                  0                 0                                      0   \n",
       "2                  0                 1                                      0   \n",
       "3                  0                 0                                      0   \n",
       "4                  0                 1                                      0   \n",
       "\n",
       "   PaymentMethod_Electronic check  PaymentMethod_Mailed check  \n",
       "0                               1                           0  \n",
       "1                               0                           1  \n",
       "2                               0                           1  \n",
       "3                               0                           0  \n",
       "4                               1                           0  \n",
       "\n",
       "[5 rows x 22 columns]"
      ]
     },
     "execution_count": 255,
     "metadata": {},
     "output_type": "execute_result"
    }
   ],
   "source": [
    "df_pca = df_pca.dropna()\n",
    "df_pca = df_pca.drop(['tenure_scaled','MonthlyCharges_scaled','log_TotalCharges_scaled'], axis = 1)\n",
    "X_pca = df_pca.iloc[:,:-1]\n",
    "X_pca.head()"
   ]
  },
  {
   "cell_type": "code",
   "execution_count": 256,
   "metadata": {},
   "outputs": [],
   "source": [
    "y_pca = df_pca['Churn']"
   ]
  },
  {
   "cell_type": "code",
   "execution_count": 257,
   "metadata": {},
   "outputs": [],
   "source": [
    "X_pca_train, X_pca_test, y_pca_train, y_pca_test = train_test_split(X_pca, y_pca, random_state = seed)"
   ]
  },
  {
   "cell_type": "code",
   "execution_count": 258,
   "metadata": {},
   "outputs": [],
   "source": [
    "model = LogisticRegression()"
   ]
  },
  {
   "cell_type": "code",
   "execution_count": 259,
   "metadata": {},
   "outputs": [
    {
     "name": "stdout",
     "output_type": "stream",
     "text": [
      "Grid-Search with AUC\n",
      "Best parameters: {'C': 1000, 'penalty': 'l1'}\n",
      "Best cross-validation score (AUC): 0.827\n",
      "Test set AUC: 0.845\n"
     ]
    },
    {
     "data": {
      "image/png": "[encoded data removed]",
      "text/plain": [
       "<Figure size 432x288 with 1 Axes>"
      ]
     },
     "metadata": {
      "needs_background": "light"
     },
     "output_type": "display_data"
    }
   ],
   "source": [
    "param_grid = {'penalty': ['l1', 'l2'], \n",
    "             'C': [0.001, 0.01, 0.1, 1, 10, 100, 1000]}\n",
    "cv = ShuffleSplit(train_size=0.8, test_size=0.2, n_splits=10, random_state = seed)\n",
    "grid_search = GridSearchCV(model, param_grid=param_grid, cv = cv, scoring='roc_auc')\n",
    "grid_search.fit(X_pca_train, y_pca_train)\n",
    "results = pd.DataFrame(grid_search.cv_results_)\n",
    "scores = np.array(results.mean_test_score).reshape(7, 2).T\n",
    "mglearn.tools.heatmap(scores, xlabel='C', xticklabels=param_grid['C'],\n",
    "                      ylabel='penalty', yticklabels=param_grid['penalty'], cmap=\"viridis\")\n",
    "print(\"Grid-Search with AUC\")\n",
    "print(\"Best parameters:\", grid_search.best_params_)\n",
    "print(\"Best cross-validation score (AUC): {:.3f}\".format(grid_search.best_score_))\n",
    "print(\"Test set AUC: {:.3f}\".format(roc_auc_score(y_pca_test, grid_search.decision_function(X_pca_test))))"
   ]
  },
  {
   "cell_type": "code",
   "execution_count": 260,
   "metadata": {},
   "outputs": [],
   "source": [
    "model = LogisticRegression(C = grid_search.best_params_['C'], penalty = grid_search.best_params_['penalty'])\n",
    "model.fit(X_pca_train, y_pca_train)\n",
    "pred = model.predict_proba(X_pca_test)"
   ]
  },
  {
   "cell_type": "code",
   "execution_count": 261,
   "metadata": {
    "scrolled": true
   },
   "outputs": [
    {
     "data": {
      "text/plain": [
       "<matplotlib.axes._subplots.AxesSubplot at 0x18712fce5c0>"
      ]
     },
     "execution_count": 261,
     "metadata": {},
     "output_type": "execute_result"
    },
    {
     "data": {
      "image/png": "[encoded data removed]",
      "text/plain": [
       "<Figure size 432x288 with 1 Axes>"
      ]
     },
     "metadata": {
      "needs_background": "light"
     },
     "output_type": "display_data"
    },
    {
     "data": {
      "image/png": "[encoded data removed]",
      "text/plain": [
       "<Figure size 432x288 with 1 Axes>"
      ]
     },
     "metadata": {
      "needs_background": "light"
     },
     "output_type": "display_data"
    },
    {
     "data": {
      "image/png": "[encoded data removed]",
      "text/plain": [
       "<Figure size 432x288 with 1 Axes>"
      ]
     },
     "metadata": {
      "needs_background": "light"
     },
     "output_type": "display_data"
    },
    {
     "data": {
      "image/png": "[encoded data removed]",
      "text/plain": [
       "<Figure size 432x288 with 1 Axes>"
      ]
     },
     "metadata": {
      "needs_background": "light"
     },
     "output_type": "display_data"
    }
   ],
   "source": [
    "skplt.metrics.plot_lift_curve(y_pca_test, pred)\n",
    "skplt.metrics.plot_cumulative_gain(y_pca_test, pred)\n",
    "skplt.metrics.plot_ks_statistic(y_pca_test, pred)\n",
    "skplt.metrics.plot_roc_curve(y_pca_test, pred)"
   ]
  },
  {
   "cell_type": "markdown",
   "metadata": {},
   "source": [
    "We see that results got worse"
   ]
  },
  {
   "cell_type": "markdown",
   "metadata": {},
   "source": [
    "Now let's try the same with **2 principal components**:"
   ]
  },
  {
   "cell_type": "code",
   "execution_count": 262,
   "metadata": {},
   "outputs": [
    {
     "name": "stdout",
     "output_type": "stream",
     "text": [
      "First two PCs explains 0.7698678500118021 of total variance of numeric variables\n"
     ]
    }
   ],
   "source": [
    "pca = PCA(n_components = 2)\n",
    "df_pca = pd.DataFrame(pca.fit_transform(X_s), columns = ['PC {0}'.format(i + 1) for i in range(2)])\n",
    "print('First two PCs explains', sum(pca.explained_variance_ratio_), 'of total variance of numeric variables')"
   ]
  },
  {
   "cell_type": "code",
   "execution_count": 263,
   "metadata": {},
   "outputs": [
    {
     "data": {
      "text/html": [
       "<div>\n",
       "<style scoped>\n",
       "    .dataframe tbody tr th:only-of-type {\n",
       "        vertical-align: middle;\n",
       "    }\n",
       "\n",
       "    .dataframe tbody tr th {\n",
       "        vertical-align: top;\n",
       "    }\n",
       "\n",
       "    .dataframe thead th {\n",
       "        text-align: right;\n",
       "    }\n",
       "</style>\n",
       "<table border=\"1\" class=\"dataframe\">\n",
       "  <thead>\n",
       "    <tr style=\"text-align: right;\">\n",
       "      <th></th>\n",
       "      <th>PC 1</th>\n",
       "      <th>PC 2</th>\n",
       "      <th>SeniorCitizen</th>\n",
       "      <th>tenure_scaled</th>\n",
       "      <th>MonthlyCharges_scaled</th>\n",
       "      <th>log_TotalCharges_scaled</th>\n",
       "      <th>gender_Male</th>\n",
       "      <th>Partner</th>\n",
       "      <th>Dependents</th>\n",
       "      <th>PhoneService</th>\n",
       "      <th>...</th>\n",
       "      <th>TechSupport</th>\n",
       "      <th>StreamingTV</th>\n",
       "      <th>StreamingMovies</th>\n",
       "      <th>Contract_One year</th>\n",
       "      <th>Contract_Two year</th>\n",
       "      <th>PaperlessBilling</th>\n",
       "      <th>PaymentMethod_Credit card (automatic)</th>\n",
       "      <th>PaymentMethod_Electronic check</th>\n",
       "      <th>PaymentMethod_Mailed check</th>\n",
       "      <th>Churn</th>\n",
       "    </tr>\n",
       "  </thead>\n",
       "  <tbody>\n",
       "    <tr>\n",
       "      <th>0</th>\n",
       "      <td>-1.656681</td>\n",
       "      <td>0.578390</td>\n",
       "      <td>0</td>\n",
       "      <td>0.000000</td>\n",
       "      <td>0.115538</td>\n",
       "      <td>0.075525</td>\n",
       "      <td>0</td>\n",
       "      <td>1</td>\n",
       "      <td>0</td>\n",
       "      <td>0</td>\n",
       "      <td>...</td>\n",
       "      <td>0</td>\n",
       "      <td>0</td>\n",
       "      <td>0</td>\n",
       "      <td>0</td>\n",
       "      <td>0</td>\n",
       "      <td>1</td>\n",
       "      <td>0</td>\n",
       "      <td>1</td>\n",
       "      <td>0</td>\n",
       "      <td>0</td>\n",
       "    </tr>\n",
       "    <tr>\n",
       "      <th>1</th>\n",
       "      <td>-0.307392</td>\n",
       "      <td>-0.424021</td>\n",
       "      <td>0</td>\n",
       "      <td>0.471429</td>\n",
       "      <td>0.385458</td>\n",
       "      <td>0.753111</td>\n",
       "      <td>1</td>\n",
       "      <td>0</td>\n",
       "      <td>0</td>\n",
       "      <td>1</td>\n",
       "      <td>...</td>\n",
       "      <td>0</td>\n",
       "      <td>0</td>\n",
       "      <td>0</td>\n",
       "      <td>1</td>\n",
       "      <td>0</td>\n",
       "      <td>0</td>\n",
       "      <td>0</td>\n",
       "      <td>0</td>\n",
       "      <td>1</td>\n",
       "      <td>0</td>\n",
       "    </tr>\n",
       "    <tr>\n",
       "      <th>2</th>\n",
       "      <td>-1.073101</td>\n",
       "      <td>0.548364</td>\n",
       "      <td>0</td>\n",
       "      <td>0.014286</td>\n",
       "      <td>0.354582</td>\n",
       "      <td>0.285820</td>\n",
       "      <td>1</td>\n",
       "      <td>0</td>\n",
       "      <td>0</td>\n",
       "      <td>1</td>\n",
       "      <td>...</td>\n",
       "      <td>0</td>\n",
       "      <td>0</td>\n",
       "      <td>0</td>\n",
       "      <td>0</td>\n",
       "      <td>0</td>\n",
       "      <td>1</td>\n",
       "      <td>0</td>\n",
       "      <td>0</td>\n",
       "      <td>1</td>\n",
       "      <td>1</td>\n",
       "    </tr>\n",
       "    <tr>\n",
       "      <th>3</th>\n",
       "      <td>-0.412134</td>\n",
       "      <td>-0.758516</td>\n",
       "      <td>0</td>\n",
       "      <td>0.628571</td>\n",
       "      <td>0.239542</td>\n",
       "      <td>0.748841</td>\n",
       "      <td>1</td>\n",
       "      <td>0</td>\n",
       "      <td>0</td>\n",
       "      <td>0</td>\n",
       "      <td>...</td>\n",
       "      <td>1</td>\n",
       "      <td>0</td>\n",
       "      <td>0</td>\n",
       "      <td>1</td>\n",
       "      <td>0</td>\n",
       "      <td>0</td>\n",
       "      <td>0</td>\n",
       "      <td>0</td>\n",
       "      <td>0</td>\n",
       "      <td>0</td>\n",
       "    </tr>\n",
       "    <tr>\n",
       "      <th>4</th>\n",
       "      <td>-0.678587</td>\n",
       "      <td>0.548618</td>\n",
       "      <td>0</td>\n",
       "      <td>0.014286</td>\n",
       "      <td>0.522410</td>\n",
       "      <td>0.341044</td>\n",
       "      <td>0</td>\n",
       "      <td>0</td>\n",
       "      <td>0</td>\n",
       "      <td>1</td>\n",
       "      <td>...</td>\n",
       "      <td>0</td>\n",
       "      <td>0</td>\n",
       "      <td>0</td>\n",
       "      <td>0</td>\n",
       "      <td>0</td>\n",
       "      <td>1</td>\n",
       "      <td>0</td>\n",
       "      <td>1</td>\n",
       "      <td>0</td>\n",
       "      <td>1</td>\n",
       "    </tr>\n",
       "  </tbody>\n",
       "</table>\n",
       "<p>5 rows × 27 columns</p>\n",
       "</div>"
      ],
      "text/plain": [
       "       PC 1      PC 2  SeniorCitizen  tenure_scaled  MonthlyCharges_scaled  \\\n",
       "0 -1.656681  0.578390              0       0.000000               0.115538   \n",
       "1 -0.307392 -0.424021              0       0.471429               0.385458   \n",
       "2 -1.073101  0.548364              0       0.014286               0.354582   \n",
       "3 -0.412134 -0.758516              0       0.628571               0.239542   \n",
       "4 -0.678587  0.548618              0       0.014286               0.522410   \n",
       "\n",
       "   log_TotalCharges_scaled  gender_Male  Partner  Dependents  PhoneService  \\\n",
       "0                 0.075525            0        1           0             0   \n",
       "1                 0.753111            1        0           0             1   \n",
       "2                 0.285820            1        0           0             1   \n",
       "3                 0.748841            1        0           0             0   \n",
       "4                 0.341044            0        0           0             1   \n",
       "\n",
       "   ...    TechSupport  StreamingTV  StreamingMovies  Contract_One year  \\\n",
       "0  ...              0            0                0                  0   \n",
       "1  ...              0            0                0                  1   \n",
       "2  ...              0            0                0                  0   \n",
       "3  ...              1            0                0                  1   \n",
       "4  ...              0            0                0                  0   \n",
       "\n",
       "   Contract_Two year  PaperlessBilling  PaymentMethod_Credit card (automatic)  \\\n",
       "0                  0                 1                                      0   \n",
       "1                  0                 0                                      0   \n",
       "2                  0                 1                                      0   \n",
       "3                  0                 0                                      0   \n",
       "4                  0                 1                                      0   \n",
       "\n",
       "   PaymentMethod_Electronic check  PaymentMethod_Mailed check  Churn  \n",
       "0                               1                           0      0  \n",
       "1                               0                           1      0  \n",
       "2                               0                           1      1  \n",
       "3                               0                           0      0  \n",
       "4                               1                           0      1  \n",
       "\n",
       "[5 rows x 27 columns]"
      ]
     },
     "execution_count": 263,
     "metadata": {},
     "output_type": "execute_result"
    }
   ],
   "source": [
    "df_pca = pd.merge(df_pca, df, left_index=True, right_index=True)\n",
    "df_pca.head()"
   ]
  },
  {
   "cell_type": "code",
   "execution_count": 264,
   "metadata": {
    "scrolled": true
   },
   "outputs": [
    {
     "data": {
      "text/html": [
       "<div>\n",
       "<style scoped>\n",
       "    .dataframe tbody tr th:only-of-type {\n",
       "        vertical-align: middle;\n",
       "    }\n",
       "\n",
       "    .dataframe tbody tr th {\n",
       "        vertical-align: top;\n",
       "    }\n",
       "\n",
       "    .dataframe thead th {\n",
       "        text-align: right;\n",
       "    }\n",
       "</style>\n",
       "<table border=\"1\" class=\"dataframe\">\n",
       "  <thead>\n",
       "    <tr style=\"text-align: right;\">\n",
       "      <th></th>\n",
       "      <th>PC 1</th>\n",
       "      <th>PC 2</th>\n",
       "      <th>SeniorCitizen</th>\n",
       "      <th>gender_Male</th>\n",
       "      <th>Partner</th>\n",
       "      <th>Dependents</th>\n",
       "      <th>PhoneService</th>\n",
       "      <th>MultipleLines_No phone service</th>\n",
       "      <th>MultipleLines</th>\n",
       "      <th>InternetService_Fiber optic</th>\n",
       "      <th>...</th>\n",
       "      <th>DeviceProtection</th>\n",
       "      <th>TechSupport</th>\n",
       "      <th>StreamingTV</th>\n",
       "      <th>StreamingMovies</th>\n",
       "      <th>Contract_One year</th>\n",
       "      <th>Contract_Two year</th>\n",
       "      <th>PaperlessBilling</th>\n",
       "      <th>PaymentMethod_Credit card (automatic)</th>\n",
       "      <th>PaymentMethod_Electronic check</th>\n",
       "      <th>PaymentMethod_Mailed check</th>\n",
       "    </tr>\n",
       "  </thead>\n",
       "  <tbody>\n",
       "    <tr>\n",
       "      <th>0</th>\n",
       "      <td>-1.656681</td>\n",
       "      <td>0.578390</td>\n",
       "      <td>0</td>\n",
       "      <td>0</td>\n",
       "      <td>1</td>\n",
       "      <td>0</td>\n",
       "      <td>0</td>\n",
       "      <td>1</td>\n",
       "      <td>0</td>\n",
       "      <td>0</td>\n",
       "      <td>...</td>\n",
       "      <td>0</td>\n",
       "      <td>0</td>\n",
       "      <td>0</td>\n",
       "      <td>0</td>\n",
       "      <td>0</td>\n",
       "      <td>0</td>\n",
       "      <td>1</td>\n",
       "      <td>0</td>\n",
       "      <td>1</td>\n",
       "      <td>0</td>\n",
       "    </tr>\n",
       "    <tr>\n",
       "      <th>1</th>\n",
       "      <td>-0.307392</td>\n",
       "      <td>-0.424021</td>\n",
       "      <td>0</td>\n",
       "      <td>1</td>\n",
       "      <td>0</td>\n",
       "      <td>0</td>\n",
       "      <td>1</td>\n",
       "      <td>0</td>\n",
       "      <td>0</td>\n",
       "      <td>0</td>\n",
       "      <td>...</td>\n",
       "      <td>1</td>\n",
       "      <td>0</td>\n",
       "      <td>0</td>\n",
       "      <td>0</td>\n",
       "      <td>1</td>\n",
       "      <td>0</td>\n",
       "      <td>0</td>\n",
       "      <td>0</td>\n",
       "      <td>0</td>\n",
       "      <td>1</td>\n",
       "    </tr>\n",
       "    <tr>\n",
       "      <th>2</th>\n",
       "      <td>-1.073101</td>\n",
       "      <td>0.548364</td>\n",
       "      <td>0</td>\n",
       "      <td>1</td>\n",
       "      <td>0</td>\n",
       "      <td>0</td>\n",
       "      <td>1</td>\n",
       "      <td>0</td>\n",
       "      <td>0</td>\n",
       "      <td>0</td>\n",
       "      <td>...</td>\n",
       "      <td>0</td>\n",
       "      <td>0</td>\n",
       "      <td>0</td>\n",
       "      <td>0</td>\n",
       "      <td>0</td>\n",
       "      <td>0</td>\n",
       "      <td>1</td>\n",
       "      <td>0</td>\n",
       "      <td>0</td>\n",
       "      <td>1</td>\n",
       "    </tr>\n",
       "    <tr>\n",
       "      <th>3</th>\n",
       "      <td>-0.412134</td>\n",
       "      <td>-0.758516</td>\n",
       "      <td>0</td>\n",
       "      <td>1</td>\n",
       "      <td>0</td>\n",
       "      <td>0</td>\n",
       "      <td>0</td>\n",
       "      <td>1</td>\n",
       "      <td>0</td>\n",
       "      <td>0</td>\n",
       "      <td>...</td>\n",
       "      <td>1</td>\n",
       "      <td>1</td>\n",
       "      <td>0</td>\n",
       "      <td>0</td>\n",
       "      <td>1</td>\n",
       "      <td>0</td>\n",
       "      <td>0</td>\n",
       "      <td>0</td>\n",
       "      <td>0</td>\n",
       "      <td>0</td>\n",
       "    </tr>\n",
       "    <tr>\n",
       "      <th>4</th>\n",
       "      <td>-0.678587</td>\n",
       "      <td>0.548618</td>\n",
       "      <td>0</td>\n",
       "      <td>0</td>\n",
       "      <td>0</td>\n",
       "      <td>0</td>\n",
       "      <td>1</td>\n",
       "      <td>0</td>\n",
       "      <td>0</td>\n",
       "      <td>1</td>\n",
       "      <td>...</td>\n",
       "      <td>0</td>\n",
       "      <td>0</td>\n",
       "      <td>0</td>\n",
       "      <td>0</td>\n",
       "      <td>0</td>\n",
       "      <td>0</td>\n",
       "      <td>1</td>\n",
       "      <td>0</td>\n",
       "      <td>1</td>\n",
       "      <td>0</td>\n",
       "    </tr>\n",
       "  </tbody>\n",
       "</table>\n",
       "<p>5 rows × 23 columns</p>\n",
       "</div>"
      ],
      "text/plain": [
       "       PC 1      PC 2  SeniorCitizen  gender_Male  Partner  Dependents  \\\n",
       "0 -1.656681  0.578390              0            0        1           0   \n",
       "1 -0.307392 -0.424021              0            1        0           0   \n",
       "2 -1.073101  0.548364              0            1        0           0   \n",
       "3 -0.412134 -0.758516              0            1        0           0   \n",
       "4 -0.678587  0.548618              0            0        0           0   \n",
       "\n",
       "   PhoneService  MultipleLines_No phone service  MultipleLines  \\\n",
       "0             0                               1              0   \n",
       "1             1                               0              0   \n",
       "2             1                               0              0   \n",
       "3             0                               1              0   \n",
       "4             1                               0              0   \n",
       "\n",
       "   InternetService_Fiber optic             ...              DeviceProtection  \\\n",
       "0                            0             ...                             0   \n",
       "1                            0             ...                             1   \n",
       "2                            0             ...                             0   \n",
       "3                            0             ...                             1   \n",
       "4                            1             ...                             0   \n",
       "\n",
       "   TechSupport  StreamingTV  StreamingMovies  Contract_One year  \\\n",
       "0            0            0                0                  0   \n",
       "1            0            0                0                  1   \n",
       "2            0            0                0                  0   \n",
       "3            1            0                0                  1   \n",
       "4            0            0                0                  0   \n",
       "\n",
       "   Contract_Two year  PaperlessBilling  PaymentMethod_Credit card (automatic)  \\\n",
       "0                  0                 1                                      0   \n",
       "1                  0                 0                                      0   \n",
       "2                  0                 1                                      0   \n",
       "3                  0                 0                                      0   \n",
       "4                  0                 1                                      0   \n",
       "\n",
       "   PaymentMethod_Electronic check  PaymentMethod_Mailed check  \n",
       "0                               1                           0  \n",
       "1                               0                           1  \n",
       "2                               0                           1  \n",
       "3                               0                           0  \n",
       "4                               1                           0  \n",
       "\n",
       "[5 rows x 23 columns]"
      ]
     },
     "execution_count": 264,
     "metadata": {},
     "output_type": "execute_result"
    }
   ],
   "source": [
    "df_pca = df_pca.dropna()\n",
    "df_pca = df_pca.drop(['tenure_scaled','MonthlyCharges_scaled','log_TotalCharges_scaled'], axis = 1)\n",
    "X_pca = df_pca.iloc[:,:-1]\n",
    "X_pca.head()"
   ]
  },
  {
   "cell_type": "code",
   "execution_count": 265,
   "metadata": {},
   "outputs": [],
   "source": [
    "X_pca_train, X_pca_test, y_pca_train, y_pca_test = train_test_split(X_pca, y_pca, random_state = seed)"
   ]
  },
  {
   "cell_type": "code",
   "execution_count": 266,
   "metadata": {},
   "outputs": [],
   "source": [
    "model = LogisticRegression()"
   ]
  },
  {
   "cell_type": "code",
   "execution_count": 267,
   "metadata": {},
   "outputs": [
    {
     "name": "stdout",
     "output_type": "stream",
     "text": [
      "Grid-Search with AUC\n",
      "Best parameters: {'C': 1, 'penalty': 'l1'}\n",
      "Best cross-validation score (AUC): 0.827\n",
      "Test set AUC: 0.845\n"
     ]
    },
    {
     "data": {
      "image/png": "[encoded data removed]",
      "text/plain": [
       "<Figure size 432x288 with 1 Axes>"
      ]
     },
     "metadata": {
      "needs_background": "light"
     },
     "output_type": "display_data"
    }
   ],
   "source": [
    "param_grid = {'penalty': ['l1', 'l2'], \n",
    "             'C': [0.001, 0.01, 0.1, 1, 10, 100, 1000]}\n",
    "cv = ShuffleSplit(train_size=0.8, test_size=0.2, n_splits=10, random_state = seed)\n",
    "grid_search = GridSearchCV(model, param_grid=param_grid, cv = cv, scoring='roc_auc')\n",
    "grid_search.fit(X_pca_train, y_pca_train)\n",
    "results = pd.DataFrame(grid_search.cv_results_)\n",
    "scores = np.array(results.mean_test_score).reshape(7, 2).T\n",
    "mglearn.tools.heatmap(scores, xlabel='C', xticklabels=param_grid['C'],\n",
    "                      ylabel='penalty', yticklabels=param_grid['penalty'], cmap=\"viridis\")\n",
    "print(\"Grid-Search with AUC\")\n",
    "print(\"Best parameters:\", grid_search.best_params_)\n",
    "print(\"Best cross-validation score (AUC): {:.3f}\".format(grid_search.best_score_))\n",
    "print(\"Test set AUC: {:.3f}\".format(roc_auc_score(y_pca_test, grid_search.decision_function(X_pca_test))))"
   ]
  },
  {
   "cell_type": "code",
   "execution_count": 268,
   "metadata": {},
   "outputs": [],
   "source": [
    "model = LogisticRegression(C = grid_search.best_params_['C'], penalty = grid_search.best_params_['penalty'])\n",
    "model.fit(X_pca_train, y_pca_train)\n",
    "pred = model.predict_proba(X_pca_test)"
   ]
  },
  {
   "cell_type": "code",
   "execution_count": 269,
   "metadata": {},
   "outputs": [
    {
     "data": {
      "text/plain": [
       "<matplotlib.axes._subplots.AxesSubplot at 0x18711f54a90>"
      ]
     },
     "execution_count": 269,
     "metadata": {},
     "output_type": "execute_result"
    },
    {
     "data": {
      "image/png": "[encoded data removed]",
      "text/plain": [
       "<Figure size 432x288 with 1 Axes>"
      ]
     },
     "metadata": {
      "needs_background": "light"
     },
     "output_type": "display_data"
    },
    {
     "data": {
      "image/png": "[encoded data removed]",
      "text/plain": [
       "<Figure size 432x288 with 1 Axes>"
      ]
     },
     "metadata": {
      "needs_background": "light"
     },
     "output_type": "display_data"
    },
    {
     "data": {
      "image/png": "[encoded data removed]",
      "text/plain": [
       "<Figure size 432x288 with 1 Axes>"
      ]
     },
     "metadata": {
      "needs_background": "light"
     },
     "output_type": "display_data"
    },
    {
     "data": {
      "image/png": "[encoded data removed]",
      "text/plain": [
       "<Figure size 432x288 with 1 Axes>"
      ]
     },
     "metadata": {
      "needs_background": "light"
     },
     "output_type": "display_data"
    }
   ],
   "source": [
    "skplt.metrics.plot_lift_curve(y_pca_test, pred)\n",
    "skplt.metrics.plot_cumulative_gain(y_pca_test, pred)\n",
    "skplt.metrics.plot_ks_statistic(y_pca_test, pred)\n",
    "skplt.metrics.plot_roc_curve(y_pca_test, pred)"
   ]
  },
  {
   "cell_type": "markdown",
   "metadata": {},
   "source": [
    "And again we don't see any improvement in AUC score"
   ]
  },
  {
   "cell_type": "markdown",
   "metadata": {},
   "source": [
    "# K-Prototypes (Appendix)"
   ]
  },
  {
   "cell_type": "markdown",
   "metadata": {},
   "source": [
    "We need to stress that we can't use KNN algorithm for clustering due to most of our features are categorical"
   ]
  },
  {
   "cell_type": "markdown",
   "metadata": {},
   "source": [
    "Though we can try to infer any insights from cluster analysis. In order to split clients to some groups we'll use K-prototypes technique, which enables us to account for dissimilarities of both numeric and categorical variables between observations"
   ]
  },
  {
   "cell_type": "code",
   "execution_count": 186,
   "metadata": {
    "scrolled": true
   },
   "outputs": [],
   "source": [
    "X = df"
   ]
  },
  {
   "cell_type": "code",
   "execution_count": 188,
   "metadata": {},
   "outputs": [],
   "source": [
    "#functions that counts mean of Gower distances between observations in each cluster\n",
    "def avGD(X, labels, N):\n",
    "    GDs = []\n",
    "    for i in range(N):\n",
    "        GD = gower_distances(X[np.where(labels == 0)[0]], categorical_features= [True]*1+[False]*3+[True]*21)\n",
    "        GDs.append(np.sum(GD)/(2*GD.shape[0]))\n",
    "    return sum(GDs) "
   ]
  },
  {
   "cell_type": "markdown",
   "metadata": {},
   "source": [
    "Let's run a loop in which we calculate Gower's distance on each step to define the best size of the clusters for customer and product data."
   ]
  },
  {
   "cell_type": "code",
   "execution_count": 189,
   "metadata": {},
   "outputs": [
    {
     "data": {
      "text/html": [
       "<div>\n",
       "<style scoped>\n",
       "    .dataframe tbody tr th:only-of-type {\n",
       "        vertical-align: middle;\n",
       "    }\n",
       "\n",
       "    .dataframe tbody tr th {\n",
       "        vertical-align: top;\n",
       "    }\n",
       "\n",
       "    .dataframe thead th {\n",
       "        text-align: right;\n",
       "    }\n",
       "</style>\n",
       "<table border=\"1\" class=\"dataframe\">\n",
       "  <thead>\n",
       "    <tr style=\"text-align: right;\">\n",
       "      <th></th>\n",
       "      <th>SeniorCitizen</th>\n",
       "      <th>tenure_scaled</th>\n",
       "      <th>MonthlyCharges_scaled</th>\n",
       "      <th>log_TotalCharges_scaled</th>\n",
       "      <th>gender_Male</th>\n",
       "      <th>Partner</th>\n",
       "      <th>Dependents</th>\n",
       "      <th>PhoneService</th>\n",
       "      <th>MultipleLines_No phone service</th>\n",
       "      <th>MultipleLines</th>\n",
       "      <th>...</th>\n",
       "      <th>TechSupport</th>\n",
       "      <th>StreamingTV</th>\n",
       "      <th>StreamingMovies</th>\n",
       "      <th>Contract_One year</th>\n",
       "      <th>Contract_Two year</th>\n",
       "      <th>PaperlessBilling</th>\n",
       "      <th>PaymentMethod_Credit card (automatic)</th>\n",
       "      <th>PaymentMethod_Electronic check</th>\n",
       "      <th>PaymentMethod_Mailed check</th>\n",
       "      <th>Churn</th>\n",
       "    </tr>\n",
       "  </thead>\n",
       "  <tbody>\n",
       "    <tr>\n",
       "      <th>0</th>\n",
       "      <td>0</td>\n",
       "      <td>0.000000</td>\n",
       "      <td>0.115538</td>\n",
       "      <td>0.075525</td>\n",
       "      <td>0</td>\n",
       "      <td>1</td>\n",
       "      <td>0</td>\n",
       "      <td>0</td>\n",
       "      <td>1</td>\n",
       "      <td>0</td>\n",
       "      <td>...</td>\n",
       "      <td>0</td>\n",
       "      <td>0</td>\n",
       "      <td>0</td>\n",
       "      <td>0</td>\n",
       "      <td>0</td>\n",
       "      <td>1</td>\n",
       "      <td>0</td>\n",
       "      <td>1</td>\n",
       "      <td>0</td>\n",
       "      <td>0</td>\n",
       "    </tr>\n",
       "    <tr>\n",
       "      <th>1</th>\n",
       "      <td>0</td>\n",
       "      <td>0.471429</td>\n",
       "      <td>0.385458</td>\n",
       "      <td>0.753111</td>\n",
       "      <td>1</td>\n",
       "      <td>0</td>\n",
       "      <td>0</td>\n",
       "      <td>1</td>\n",
       "      <td>0</td>\n",
       "      <td>0</td>\n",
       "      <td>...</td>\n",
       "      <td>0</td>\n",
       "      <td>0</td>\n",
       "      <td>0</td>\n",
       "      <td>1</td>\n",
       "      <td>0</td>\n",
       "      <td>0</td>\n",
       "      <td>0</td>\n",
       "      <td>0</td>\n",
       "      <td>1</td>\n",
       "      <td>0</td>\n",
       "    </tr>\n",
       "    <tr>\n",
       "      <th>2</th>\n",
       "      <td>0</td>\n",
       "      <td>0.014286</td>\n",
       "      <td>0.354582</td>\n",
       "      <td>0.285820</td>\n",
       "      <td>1</td>\n",
       "      <td>0</td>\n",
       "      <td>0</td>\n",
       "      <td>1</td>\n",
       "      <td>0</td>\n",
       "      <td>0</td>\n",
       "      <td>...</td>\n",
       "      <td>0</td>\n",
       "      <td>0</td>\n",
       "      <td>0</td>\n",
       "      <td>0</td>\n",
       "      <td>0</td>\n",
       "      <td>1</td>\n",
       "      <td>0</td>\n",
       "      <td>0</td>\n",
       "      <td>1</td>\n",
       "      <td>1</td>\n",
       "    </tr>\n",
       "    <tr>\n",
       "      <th>3</th>\n",
       "      <td>0</td>\n",
       "      <td>0.628571</td>\n",
       "      <td>0.239542</td>\n",
       "      <td>0.748841</td>\n",
       "      <td>1</td>\n",
       "      <td>0</td>\n",
       "      <td>0</td>\n",
       "      <td>0</td>\n",
       "      <td>1</td>\n",
       "      <td>0</td>\n",
       "      <td>...</td>\n",
       "      <td>1</td>\n",
       "      <td>0</td>\n",
       "      <td>0</td>\n",
       "      <td>1</td>\n",
       "      <td>0</td>\n",
       "      <td>0</td>\n",
       "      <td>0</td>\n",
       "      <td>0</td>\n",
       "      <td>0</td>\n",
       "      <td>0</td>\n",
       "    </tr>\n",
       "    <tr>\n",
       "      <th>4</th>\n",
       "      <td>0</td>\n",
       "      <td>0.014286</td>\n",
       "      <td>0.522410</td>\n",
       "      <td>0.341044</td>\n",
       "      <td>0</td>\n",
       "      <td>0</td>\n",
       "      <td>0</td>\n",
       "      <td>1</td>\n",
       "      <td>0</td>\n",
       "      <td>0</td>\n",
       "      <td>...</td>\n",
       "      <td>0</td>\n",
       "      <td>0</td>\n",
       "      <td>0</td>\n",
       "      <td>0</td>\n",
       "      <td>0</td>\n",
       "      <td>1</td>\n",
       "      <td>0</td>\n",
       "      <td>1</td>\n",
       "      <td>0</td>\n",
       "      <td>1</td>\n",
       "    </tr>\n",
       "  </tbody>\n",
       "</table>\n",
       "<p>5 rows × 25 columns</p>\n",
       "</div>"
      ],
      "text/plain": [
       "   SeniorCitizen  tenure_scaled  MonthlyCharges_scaled  \\\n",
       "0              0       0.000000               0.115538   \n",
       "1              0       0.471429               0.385458   \n",
       "2              0       0.014286               0.354582   \n",
       "3              0       0.628571               0.239542   \n",
       "4              0       0.014286               0.522410   \n",
       "\n",
       "   log_TotalCharges_scaled  gender_Male  Partner  Dependents  PhoneService  \\\n",
       "0                 0.075525            0        1           0             0   \n",
       "1                 0.753111            1        0           0             1   \n",
       "2                 0.285820            1        0           0             1   \n",
       "3                 0.748841            1        0           0             0   \n",
       "4                 0.341044            0        0           0             1   \n",
       "\n",
       "   MultipleLines_No phone service  MultipleLines  ...    TechSupport  \\\n",
       "0                               1              0  ...              0   \n",
       "1                               0              0  ...              0   \n",
       "2                               0              0  ...              0   \n",
       "3                               1              0  ...              1   \n",
       "4                               0              0  ...              0   \n",
       "\n",
       "   StreamingTV  StreamingMovies  Contract_One year  Contract_Two year  \\\n",
       "0            0                0                  0                  0   \n",
       "1            0                0                  1                  0   \n",
       "2            0                0                  0                  0   \n",
       "3            0                0                  1                  0   \n",
       "4            0                0                  0                  0   \n",
       "\n",
       "   PaperlessBilling  PaymentMethod_Credit card (automatic)  \\\n",
       "0                 1                                      0   \n",
       "1                 0                                      0   \n",
       "2                 1                                      0   \n",
       "3                 0                                      0   \n",
       "4                 1                                      0   \n",
       "\n",
       "   PaymentMethod_Electronic check  PaymentMethod_Mailed check  Churn  \n",
       "0                               1                           0      0  \n",
       "1                               0                           1      0  \n",
       "2                               0                           1      1  \n",
       "3                               0                           0      0  \n",
       "4                               1                           0      1  \n",
       "\n",
       "[5 rows x 25 columns]"
      ]
     },
     "execution_count": 189,
     "metadata": {},
     "output_type": "execute_result"
    }
   ],
   "source": [
    "X.head()"
   ]
  },
  {
   "cell_type": "code",
   "execution_count": 190,
   "metadata": {},
   "outputs": [],
   "source": [
    "res_prod = []\n",
    "for i in range(2,10):\n",
    "    kp_prod = KPrototypes(n_clusters=i, init='Huang', n_init=5, verbose=0)\n",
    "    clusters_kprod = kp_prod.fit_predict(X.values, categorical=[0]+list(range(4,25)))\n",
    "    res_prod.append(avGD(X.values, clusters_kprod, i))"
   ]
  },
  {
   "cell_type": "code",
   "execution_count": 191,
   "metadata": {
    "scrolled": true
   },
   "outputs": [
    {
     "data": {
      "text/plain": [
       "Text(0,0.5,'Mean Gower distance')"
      ]
     },
     "execution_count": 191,
     "metadata": {},
     "output_type": "execute_result"
    },
    {
     "data": {
      "image/png": "[encoded data removed]",
      "text/plain": [
       "<Figure size 432x288 with 1 Axes>"
      ]
     },
     "metadata": {},
     "output_type": "display_data"
    }
   ],
   "source": [
    "#let's take a look at how distence changes conditional of number of clusters\n",
    "plt.plot(list(range(2,10)),res_prod)\n",
    "plt.xlabel('Number of clusters')\n",
    "plt.ylabel('Mean Gower distance')"
   ]
  },
  {
   "cell_type": "markdown",
   "metadata": {},
   "source": [
    "therefore 8 clusters are the most suitable for us"
   ]
  },
  {
   "cell_type": "code",
   "execution_count": 192,
   "metadata": {},
   "outputs": [],
   "source": [
    "kpp = KPrototypes(n_clusters=8, init='Huang', n_init=5, verbose=0)"
   ]
  },
  {
   "cell_type": "code",
   "execution_count": 200,
   "metadata": {},
   "outputs": [],
   "source": [
    "clusters_kpp = kpp.fit_predict(X.values, categorical = [0]+list(range(4,25)))\n",
    "counts_prods = pd.Series(clusters_kpp).value_counts()\n",
    "X['clustersModes'] = clusters_kpp"
   ]
  },
  {
   "cell_type": "code",
   "execution_count": 201,
   "metadata": {},
   "outputs": [],
   "source": [
    "X_nums = X.groupby(['clustersModes']).mean()[['tenure_scaled', 'MonthlyCharges_scaled', 'log_TotalCharges_scaled']]"
   ]
  },
  {
   "cell_type": "code",
   "execution_count": 202,
   "metadata": {},
   "outputs": [],
   "source": [
    "import scipy.stats as stats"
   ]
  },
  {
   "cell_type": "code",
   "execution_count": 203,
   "metadata": {},
   "outputs": [],
   "source": [
    "X_cats = X.groupby(['clustersModes']).agg(lambda x: stats.mode(x)[0][0]).iloc[:, [0]+list(range(4,25))]"
   ]
  },
  {
   "cell_type": "code",
   "execution_count": 204,
   "metadata": {},
   "outputs": [
    {
     "data": {
      "text/html": [
       "<div>\n",
       "<style scoped>\n",
       "    .dataframe tbody tr th:only-of-type {\n",
       "        vertical-align: middle;\n",
       "    }\n",
       "\n",
       "    .dataframe tbody tr th {\n",
       "        vertical-align: top;\n",
       "    }\n",
       "\n",
       "    .dataframe thead th {\n",
       "        text-align: right;\n",
       "    }\n",
       "</style>\n",
       "<table border=\"1\" class=\"dataframe\">\n",
       "  <thead>\n",
       "    <tr style=\"text-align: right;\">\n",
       "      <th></th>\n",
       "      <th>tenure_scaled</th>\n",
       "      <th>MonthlyCharges_scaled</th>\n",
       "      <th>log_TotalCharges_scaled</th>\n",
       "    </tr>\n",
       "    <tr>\n",
       "      <th>clustersModes</th>\n",
       "      <th></th>\n",
       "      <th></th>\n",
       "      <th></th>\n",
       "    </tr>\n",
       "  </thead>\n",
       "  <tbody>\n",
       "    <tr>\n",
       "      <th>0</th>\n",
       "      <td>0.155479</td>\n",
       "      <td>0.094997</td>\n",
       "      <td>0.359395</td>\n",
       "    </tr>\n",
       "    <tr>\n",
       "      <th>1</th>\n",
       "      <td>0.653845</td>\n",
       "      <td>0.767010</td>\n",
       "      <td>0.878761</td>\n",
       "    </tr>\n",
       "    <tr>\n",
       "      <th>2</th>\n",
       "      <td>0.852499</td>\n",
       "      <td>0.655860</td>\n",
       "      <td>0.906700</td>\n",
       "    </tr>\n",
       "    <tr>\n",
       "      <th>3</th>\n",
       "      <td>0.094225</td>\n",
       "      <td>0.362988</td>\n",
       "      <td>0.358255</td>\n",
       "    </tr>\n",
       "    <tr>\n",
       "      <th>4</th>\n",
       "      <td>0.677935</td>\n",
       "      <td>0.059764</td>\n",
       "      <td>0.652983</td>\n",
       "    </tr>\n",
       "  </tbody>\n",
       "</table>\n",
       "</div>"
      ],
      "text/plain": [
       "               tenure_scaled  MonthlyCharges_scaled  log_TotalCharges_scaled\n",
       "clustersModes                                                               \n",
       "0                   0.155479               0.094997                 0.359395\n",
       "1                   0.653845               0.767010                 0.878761\n",
       "2                   0.852499               0.655860                 0.906700\n",
       "3                   0.094225               0.362988                 0.358255\n",
       "4                   0.677935               0.059764                 0.652983"
      ]
     },
     "execution_count": 204,
     "metadata": {},
     "output_type": "execute_result"
    }
   ],
   "source": [
    "X_nums.head()"
   ]
  },
  {
   "cell_type": "code",
   "execution_count": 205,
   "metadata": {},
   "outputs": [],
   "source": [
    "total_X = pd.merge(X_cats, X_nums, right_index = True, left_index = True)"
   ]
  },
  {
   "cell_type": "code",
   "execution_count": 208,
   "metadata": {},
   "outputs": [
    {
     "data": {
      "text/html": [
       "<div>\n",
       "<style scoped>\n",
       "    .dataframe tbody tr th:only-of-type {\n",
       "        vertical-align: middle;\n",
       "    }\n",
       "\n",
       "    .dataframe tbody tr th {\n",
       "        vertical-align: top;\n",
       "    }\n",
       "\n",
       "    .dataframe thead th {\n",
       "        text-align: right;\n",
       "    }\n",
       "</style>\n",
       "<table border=\"1\" class=\"dataframe\">\n",
       "  <thead>\n",
       "    <tr style=\"text-align: right;\">\n",
       "      <th></th>\n",
       "      <th>SeniorCitizen</th>\n",
       "      <th>gender_Male</th>\n",
       "      <th>Partner</th>\n",
       "      <th>Dependents</th>\n",
       "      <th>PhoneService</th>\n",
       "      <th>MultipleLines_No phone service</th>\n",
       "      <th>MultipleLines</th>\n",
       "      <th>InternetService_Fiber optic</th>\n",
       "      <th>InternetService_No</th>\n",
       "      <th>OnlineSecurity</th>\n",
       "      <th>...</th>\n",
       "      <th>Contract_One year</th>\n",
       "      <th>Contract_Two year</th>\n",
       "      <th>PaperlessBilling</th>\n",
       "      <th>PaymentMethod_Credit card (automatic)</th>\n",
       "      <th>PaymentMethod_Electronic check</th>\n",
       "      <th>PaymentMethod_Mailed check</th>\n",
       "      <th>Churn</th>\n",
       "      <th>tenure_scaled</th>\n",
       "      <th>MonthlyCharges_scaled</th>\n",
       "      <th>log_TotalCharges_scaled</th>\n",
       "    </tr>\n",
       "    <tr>\n",
       "      <th>clustersModes</th>\n",
       "      <th></th>\n",
       "      <th></th>\n",
       "      <th></th>\n",
       "      <th></th>\n",
       "      <th></th>\n",
       "      <th></th>\n",
       "      <th></th>\n",
       "      <th></th>\n",
       "      <th></th>\n",
       "      <th></th>\n",
       "      <th></th>\n",
       "      <th></th>\n",
       "      <th></th>\n",
       "      <th></th>\n",
       "      <th></th>\n",
       "      <th></th>\n",
       "      <th></th>\n",
       "      <th></th>\n",
       "      <th></th>\n",
       "      <th></th>\n",
       "      <th></th>\n",
       "    </tr>\n",
       "  </thead>\n",
       "  <tbody>\n",
       "    <tr>\n",
       "      <th>0</th>\n",
       "      <td>0</td>\n",
       "      <td>1</td>\n",
       "      <td>0</td>\n",
       "      <td>0</td>\n",
       "      <td>1</td>\n",
       "      <td>0</td>\n",
       "      <td>0</td>\n",
       "      <td>0</td>\n",
       "      <td>1</td>\n",
       "      <td>0</td>\n",
       "      <td>...</td>\n",
       "      <td>0</td>\n",
       "      <td>0</td>\n",
       "      <td>0</td>\n",
       "      <td>0</td>\n",
       "      <td>0</td>\n",
       "      <td>1</td>\n",
       "      <td>0</td>\n",
       "      <td>0.155479</td>\n",
       "      <td>0.094997</td>\n",
       "      <td>0.359395</td>\n",
       "    </tr>\n",
       "    <tr>\n",
       "      <th>1</th>\n",
       "      <td>0</td>\n",
       "      <td>0</td>\n",
       "      <td>1</td>\n",
       "      <td>0</td>\n",
       "      <td>1</td>\n",
       "      <td>0</td>\n",
       "      <td>1</td>\n",
       "      <td>1</td>\n",
       "      <td>0</td>\n",
       "      <td>0</td>\n",
       "      <td>...</td>\n",
       "      <td>0</td>\n",
       "      <td>0</td>\n",
       "      <td>1</td>\n",
       "      <td>0</td>\n",
       "      <td>0</td>\n",
       "      <td>0</td>\n",
       "      <td>0</td>\n",
       "      <td>0.653845</td>\n",
       "      <td>0.767010</td>\n",
       "      <td>0.878761</td>\n",
       "    </tr>\n",
       "    <tr>\n",
       "      <th>2</th>\n",
       "      <td>0</td>\n",
       "      <td>0</td>\n",
       "      <td>1</td>\n",
       "      <td>0</td>\n",
       "      <td>1</td>\n",
       "      <td>0</td>\n",
       "      <td>1</td>\n",
       "      <td>0</td>\n",
       "      <td>0</td>\n",
       "      <td>1</td>\n",
       "      <td>...</td>\n",
       "      <td>0</td>\n",
       "      <td>1</td>\n",
       "      <td>1</td>\n",
       "      <td>0</td>\n",
       "      <td>0</td>\n",
       "      <td>0</td>\n",
       "      <td>0</td>\n",
       "      <td>0.852499</td>\n",
       "      <td>0.655860</td>\n",
       "      <td>0.906700</td>\n",
       "    </tr>\n",
       "    <tr>\n",
       "      <th>3</th>\n",
       "      <td>0</td>\n",
       "      <td>1</td>\n",
       "      <td>0</td>\n",
       "      <td>0</td>\n",
       "      <td>1</td>\n",
       "      <td>0</td>\n",
       "      <td>0</td>\n",
       "      <td>0</td>\n",
       "      <td>0</td>\n",
       "      <td>0</td>\n",
       "      <td>...</td>\n",
       "      <td>0</td>\n",
       "      <td>0</td>\n",
       "      <td>1</td>\n",
       "      <td>0</td>\n",
       "      <td>0</td>\n",
       "      <td>0</td>\n",
       "      <td>1</td>\n",
       "      <td>0.094225</td>\n",
       "      <td>0.362988</td>\n",
       "      <td>0.358255</td>\n",
       "    </tr>\n",
       "    <tr>\n",
       "      <th>4</th>\n",
       "      <td>0</td>\n",
       "      <td>1</td>\n",
       "      <td>1</td>\n",
       "      <td>1</td>\n",
       "      <td>1</td>\n",
       "      <td>0</td>\n",
       "      <td>0</td>\n",
       "      <td>0</td>\n",
       "      <td>1</td>\n",
       "      <td>0</td>\n",
       "      <td>...</td>\n",
       "      <td>0</td>\n",
       "      <td>1</td>\n",
       "      <td>0</td>\n",
       "      <td>0</td>\n",
       "      <td>0</td>\n",
       "      <td>0</td>\n",
       "      <td>0</td>\n",
       "      <td>0.677935</td>\n",
       "      <td>0.059764</td>\n",
       "      <td>0.652983</td>\n",
       "    </tr>\n",
       "  </tbody>\n",
       "</table>\n",
       "<p>5 rows × 25 columns</p>\n",
       "</div>"
      ],
      "text/plain": [
       "               SeniorCitizen  gender_Male  Partner  Dependents  PhoneService  \\\n",
       "clustersModes                                                                  \n",
       "0                          0            1        0           0             1   \n",
       "1                          0            0        1           0             1   \n",
       "2                          0            0        1           0             1   \n",
       "3                          0            1        0           0             1   \n",
       "4                          0            1        1           1             1   \n",
       "\n",
       "               MultipleLines_No phone service  MultipleLines  \\\n",
       "clustersModes                                                  \n",
       "0                                           0              0   \n",
       "1                                           0              1   \n",
       "2                                           0              1   \n",
       "3                                           0              0   \n",
       "4                                           0              0   \n",
       "\n",
       "               InternetService_Fiber optic  InternetService_No  \\\n",
       "clustersModes                                                    \n",
       "0                                        0                   1   \n",
       "1                                        1                   0   \n",
       "2                                        0                   0   \n",
       "3                                        0                   0   \n",
       "4                                        0                   1   \n",
       "\n",
       "               OnlineSecurity           ...             Contract_One year  \\\n",
       "clustersModes                           ...                                 \n",
       "0                           0           ...                             0   \n",
       "1                           0           ...                             0   \n",
       "2                           1           ...                             0   \n",
       "3                           0           ...                             0   \n",
       "4                           0           ...                             0   \n",
       "\n",
       "               Contract_Two year  PaperlessBilling  \\\n",
       "clustersModes                                        \n",
       "0                              0                 0   \n",
       "1                              0                 1   \n",
       "2                              1                 1   \n",
       "3                              0                 1   \n",
       "4                              1                 0   \n",
       "\n",
       "               PaymentMethod_Credit card (automatic)  \\\n",
       "clustersModes                                          \n",
       "0                                                  0   \n",
       "1                                                  0   \n",
       "2                                                  0   \n",
       "3                                                  0   \n",
       "4                                                  0   \n",
       "\n",
       "               PaymentMethod_Electronic check  PaymentMethod_Mailed check  \\\n",
       "clustersModes                                                               \n",
       "0                                           0                           1   \n",
       "1                                           0                           0   \n",
       "2                                           0                           0   \n",
       "3                                           0                           0   \n",
       "4                                           0                           0   \n",
       "\n",
       "               Churn  tenure_scaled  MonthlyCharges_scaled  \\\n",
       "clustersModes                                                \n",
       "0                  0       0.155479               0.094997   \n",
       "1                  0       0.653845               0.767010   \n",
       "2                  0       0.852499               0.655860   \n",
       "3                  1       0.094225               0.362988   \n",
       "4                  0       0.677935               0.059764   \n",
       "\n",
       "               log_TotalCharges_scaled  \n",
       "clustersModes                           \n",
       "0                             0.359395  \n",
       "1                             0.878761  \n",
       "2                             0.906700  \n",
       "3                             0.358255  \n",
       "4                             0.652983  \n",
       "\n",
       "[5 rows x 25 columns]"
      ]
     },
     "execution_count": 208,
     "metadata": {},
     "output_type": "execute_result"
    }
   ],
   "source": [
    "total_X.head()"
   ]
  },
  {
   "cell_type": "markdown",
   "metadata": {},
   "source": [
    "Current dataframe just helps us get understanding of representative observations in our dataset: namely, what the modes\n",
    "    of numeric variables and the most frequent values of categorical variables for each cluster are.    "
   ]
  },
  {
   "cell_type": "markdown",
   "metadata": {},
   "source": [
    "# Conclusion"
   ]
  },
  {
   "cell_type": "markdown",
   "metadata": {},
   "source": [
    "We used Logistic Regression.\n",
    "\n",
    "Best specification of the model includes using log(total charges) instead of the original total charges variable.\n",
    "\n",
    "Best quality can be obtained with parameters: L2 penalty and C equal to 1.\n",
    "\n",
    "Break-even point, in a Target Retention Commercial Campaign occurs with 479th client.\n",
    "\n",
    "Maximum-profit point would occur by contacting 219 clients (because of decreasing returns to scale in our campaign – \n",
    "after 113th client, expected revenue per user declines together with the probability of retaining that customer).\n",
    "\n",
    "Clients that ought to be contacted in the campaign are carefully chosen and put in a table according to decreasing churn probability.\n",
    "\n",
    "\n",
    "Note: PCA produced worse results; KNN clustering algorithm is not suitable for this specific case because most of our data features are categorical.\n"
   ]
  }
 ],
 "metadata": {
  "kernelspec": {
   "display_name": "Python 3",
   "language": "python",
   "name": "python3"
  },
  "language_info": {
   "codemirror_mode": {
    "name": "ipython",
    "version": 3
   },
   "file_extension": ".py",
   "mimetype": "text/x-python",
   "name": "python",
   "nbconvert_exporter": "python",
   "pygments_lexer": "ipython3",
   "version": "3.7.1"
  }
 },
 "nbformat": 4,
 "nbformat_minor": 2
}
